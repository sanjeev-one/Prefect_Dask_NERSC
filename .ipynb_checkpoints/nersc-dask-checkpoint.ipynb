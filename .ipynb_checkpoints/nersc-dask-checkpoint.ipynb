{
 "cells": [
  {
   "cell_type": "code",
   "execution_count": 1,
   "metadata": {},
   "outputs": [],
   "source": [
    "#!pip install prefect[dask] dask-jobqueue\n"
   ]
  },
  {
   "cell_type": "code",
   "execution_count": 2,
   "metadata": {},
   "outputs": [],
   "source": [
    "#!prefect config set PREFECT_API_URL=\"https://ard-modeling-service.slac.stanford.edu/api\" \n"
   ]
  },
  {
   "cell_type": "code",
   "execution_count": 3,
   "metadata": {
    "tags": []
   },
   "outputs": [
    {
     "name": "stdout",
     "output_type": "stream",
     "text": [
      "#!/bin/bash\n",
      "\n",
      "#SBATCH -J dask-worker\n",
      "#SBATCH -n 1\n",
      "#SBATCH --cpus-per-task=1\n",
      "#SBATCH --mem=10G\n",
      "#SBATCH -t 00:10:00\n",
      "#SBATCH -A m669\n",
      "#SBATCH -q regular\n",
      "#SBATCH --constraint=cpu\n",
      "source ~/.bashrc\n",
      "/global/common/software/nersc/pe/conda-envs/24.1.0/python-3.11/nersc-python/bin/python -m distributed.cli.dask_worker tcp://<insert-scheduler-address-here>:8786 --name dummy-name --nthreads 1 --memory-limit 9.31GiB --nanny --death-timeout 60\n",
      "\n"
     ]
    }
   ],
   "source": [
    "\n",
    "from dask.distributed import Client\n",
    "from dask_jobqueue import SLURMCluster\n",
    "\n",
    "# Simplify SLURMCluster parameters to basic working configuration\n",
    "\n",
    "#SBATCH --qos=debug\n",
    "#SBATCH --time=5\n",
    "#SBATCH --nodes=2\n",
    "#SBATCH --ntasks-per-node=128\n",
    "#SBATCH --constraint=cpu\n",
    "\n",
    "\n",
    "cluster_kwargs = {\n",
    "    \"cores\": 1,  \n",
    "    \"memory\": \"10GB\",  # Correct spacing\n",
    "    \"shebang\": \"#!/bin/bash\",\n",
    "    #\"account\": \"sanjeevc\",\n",
    "    \"walltime\": \"00:10:00\",\n",
    "    \"job_script_prologue\": [\"source ~/.bashrc\"],\n",
    "    # Only basic directives, add more as needed and test each step\n",
    "    \"job_extra_directives\": [\"-A m669\",\"-q regular\",\"--constraint=cpu\"],\n",
    "        \"asynchronous\": True\n",
    "}\n",
    "cluster = SLURMCluster(**cluster_kwargs)\n",
    "print(cluster.job_script())\n"
   ]
  },
  {
   "cell_type": "code",
   "execution_count": 4,
   "metadata": {
    "tags": []
   },
   "outputs": [],
   "source": [
    "#!dask-scheduler\n"
   ]
  },
  {
   "cell_type": "code",
   "execution_count": 5,
   "metadata": {},
   "outputs": [],
   "source": [
    "#!prefect config set PREFECT_API_URL=\"https://ard-modeling-service.slac.stanford.edu/api\" "
   ]
  },
  {
   "cell_type": "code",
   "execution_count": 6,
   "metadata": {},
   "outputs": [],
   "source": [
    "#!prefect config set PREFECT_API_URL=\"http://localhost:8000/api\"\n"
   ]
  },
  {
   "cell_type": "code",
   "execution_count": 7,
   "metadata": {},
   "outputs": [],
   "source": [
    "%time\n",
    "slurm_jobs = 10\n",
    "cluster.scale(jobs=slurm_jobs)\n",
    "client = Client(cluster)\n",
    "client"
   ]
  },
  {
   "cell_type": "code",
   "execution_count": null,
   "metadata": {},
   "outputs": [],
   "source": []
  },
  {
   "cell_type": "code",
   "execution_count": 8,
   "metadata": {},
   "outputs": [
    {
     "name": "stdout",
     "output_type": "stream",
     "text": [
      "\n"
     ]
    }
   ],
   "source": [
    "print(client.dashboard_link)"
   ]
  },
  {
   "cell_type": "code",
   "execution_count": 9,
   "metadata": {
    "tags": []
   },
   "outputs": [
    {
     "data": {
      "text/html": [
       "<pre style=\"white-space:pre;overflow-x:auto;line-height:normal;font-family:Menlo,'DejaVu Sans Mono',consolas,'Courier New',monospace\">04:23:43.892 | <span style=\"color: #008080; text-decoration-color: #008080\">INFO</span>    | prefect.engine - Created flow run<span style=\"color: #800080; text-decoration-color: #800080\"> 'tentacled-lyrebird'</span> for flow<span style=\"color: #800080; text-decoration-color: #800080; font-weight: bold\"> 'dask'</span>\n",
       "</pre>\n"
      ],
      "text/plain": [
       "04:23:43.892 | \u001b[36mINFO\u001b[0m    | prefect.engine - Created flow run\u001b[35m 'tentacled-lyrebird'\u001b[0m for flow\u001b[1;35m 'dask'\u001b[0m\n"
      ]
     },
     "metadata": {},
     "output_type": "display_data"
    },
    {
     "data": {
      "text/html": [
       "<pre style=\"white-space:pre;overflow-x:auto;line-height:normal;font-family:Menlo,'DejaVu Sans Mono',consolas,'Courier New',monospace\">04:23:43.896 | <span style=\"color: #008080; text-decoration-color: #008080\">INFO</span>    | Flow run<span style=\"color: #800080; text-decoration-color: #800080\"> 'tentacled-lyrebird'</span> - View at <span style=\"color: #0000ff; text-decoration-color: #0000ff\">https://ard-modeling-service.slac.stanford.edu/flow-runs/flow-run/95bb0199-25d9-4f04-b0cd-4a5e5be34cb3</span>\n",
       "</pre>\n"
      ],
      "text/plain": [
       "04:23:43.896 | \u001b[36mINFO\u001b[0m    | Flow run\u001b[35m 'tentacled-lyrebird'\u001b[0m - View at \u001b[94mhttps://ard-modeling-service.slac.stanford.edu/flow-runs/flow-run/95bb0199-25d9-4f04-b0cd-4a5e5be34cb3\u001b[0m\n"
      ]
     },
     "metadata": {},
     "output_type": "display_data"
    },
    {
     "data": {
      "text/html": [
       "<pre style=\"white-space:pre;overflow-x:auto;line-height:normal;font-family:Menlo,'DejaVu Sans Mono',consolas,'Courier New',monospace\">04:23:43.897 | <span style=\"color: #008080; text-decoration-color: #008080\">INFO</span>    | prefect.task_runner.dask - Creating a new Dask cluster with `distributed.deploy.local.LocalCluster`\n",
       "</pre>\n"
      ],
      "text/plain": [
       "04:23:43.897 | \u001b[36mINFO\u001b[0m    | prefect.task_runner.dask - Creating a new Dask cluster with `distributed.deploy.local.LocalCluster`\n"
      ]
     },
     "metadata": {},
     "output_type": "display_data"
    },
    {
     "data": {
      "text/html": [
       "<pre style=\"white-space:pre;overflow-x:auto;line-height:normal;font-family:Menlo,'DejaVu Sans Mono',consolas,'Courier New',monospace\">04:23:48.167 | <span style=\"color: #008080; text-decoration-color: #008080\">INFO</span>    | prefect.task_runner.dask - The Dask dashboard is available at <span style=\"color: #0000ff; text-decoration-color: #0000ff\">http://127.0.0.1:8787/status</span>\n",
       "</pre>\n"
      ],
      "text/plain": [
       "04:23:48.167 | \u001b[36mINFO\u001b[0m    | prefect.task_runner.dask - The Dask dashboard is available at \u001b[94mhttp://127.0.0.1:8787/status\u001b[0m\n"
      ]
     },
     "metadata": {},
     "output_type": "display_data"
    },
    {
     "data": {
      "text/html": [
       "<pre style=\"white-space:pre;overflow-x:auto;line-height:normal;font-family:Menlo,'DejaVu Sans Mono',consolas,'Courier New',monospace\">04:23:48.216 | <span style=\"color: #008080; text-decoration-color: #008080\">INFO</span>    | Flow run<span style=\"color: #800080; text-decoration-color: #800080\"> 'tentacled-lyrebird'</span> - Created task run 'say_hello-0' for task 'say_hello'\n",
       "</pre>\n"
      ],
      "text/plain": [
       "04:23:48.216 | \u001b[36mINFO\u001b[0m    | Flow run\u001b[35m 'tentacled-lyrebird'\u001b[0m - Created task run 'say_hello-0' for task 'say_hello'\n"
      ]
     },
     "metadata": {},
     "output_type": "display_data"
    },
    {
     "data": {
      "text/html": [
       "<pre style=\"white-space:pre;overflow-x:auto;line-height:normal;font-family:Menlo,'DejaVu Sans Mono',consolas,'Courier New',monospace\">04:23:48.372 | <span style=\"color: #008080; text-decoration-color: #008080\">INFO</span>    | Flow run<span style=\"color: #800080; text-decoration-color: #800080\"> 'tentacled-lyrebird'</span> - Submitted task run 'say_hello-0' for execution.\n",
       "</pre>\n"
      ],
      "text/plain": [
       "04:23:48.372 | \u001b[36mINFO\u001b[0m    | Flow run\u001b[35m 'tentacled-lyrebird'\u001b[0m - Submitted task run 'say_hello-0' for execution.\n"
      ]
     },
     "metadata": {},
     "output_type": "display_data"
    },
    {
     "data": {
      "text/html": [
       "<pre style=\"white-space:pre;overflow-x:auto;line-height:normal;font-family:Menlo,'DejaVu Sans Mono',consolas,'Courier New',monospace\">04:23:48.388 | <span style=\"color: #008080; text-decoration-color: #008080\">INFO</span>    | Flow run<span style=\"color: #800080; text-decoration-color: #800080\"> 'tentacled-lyrebird'</span> - Created task run 'say_goodbye-0' for task 'say_goodbye'\n",
       "</pre>\n"
      ],
      "text/plain": [
       "04:23:48.388 | \u001b[36mINFO\u001b[0m    | Flow run\u001b[35m 'tentacled-lyrebird'\u001b[0m - Created task run 'say_goodbye-0' for task 'say_goodbye'\n"
      ]
     },
     "metadata": {},
     "output_type": "display_data"
    },
    {
     "data": {
      "text/html": [
       "<pre style=\"white-space:pre;overflow-x:auto;line-height:normal;font-family:Menlo,'DejaVu Sans Mono',consolas,'Courier New',monospace\">04:23:48.392 | <span style=\"color: #008080; text-decoration-color: #008080\">INFO</span>    | Flow run<span style=\"color: #800080; text-decoration-color: #800080\"> 'tentacled-lyrebird'</span> - Submitted task run 'say_goodbye-0' for execution.\n",
       "</pre>\n"
      ],
      "text/plain": [
       "04:23:48.392 | \u001b[36mINFO\u001b[0m    | Flow run\u001b[35m 'tentacled-lyrebird'\u001b[0m - Submitted task run 'say_goodbye-0' for execution.\n"
      ]
     },
     "metadata": {},
     "output_type": "display_data"
    },
    {
     "data": {
      "text/html": [
       "<pre style=\"white-space:pre;overflow-x:auto;line-height:normal;font-family:Menlo,'DejaVu Sans Mono',consolas,'Courier New',monospace\">04:23:48.425 | <span style=\"color: #008080; text-decoration-color: #008080\">INFO</span>    | Flow run<span style=\"color: #800080; text-decoration-color: #800080\"> 'tentacled-lyrebird'</span> - Created task run 'say_hello-1' for task 'say_hello'\n",
       "</pre>\n"
      ],
      "text/plain": [
       "04:23:48.425 | \u001b[36mINFO\u001b[0m    | Flow run\u001b[35m 'tentacled-lyrebird'\u001b[0m - Created task run 'say_hello-1' for task 'say_hello'\n"
      ]
     },
     "metadata": {},
     "output_type": "display_data"
    },
    {
     "data": {
      "text/html": [
       "<pre style=\"white-space:pre;overflow-x:auto;line-height:normal;font-family:Menlo,'DejaVu Sans Mono',consolas,'Courier New',monospace\">04:23:48.430 | <span style=\"color: #008080; text-decoration-color: #008080\">INFO</span>    | Flow run<span style=\"color: #800080; text-decoration-color: #800080\"> 'tentacled-lyrebird'</span> - Submitted task run 'say_hello-1' for execution.\n",
       "</pre>\n"
      ],
      "text/plain": [
       "04:23:48.430 | \u001b[36mINFO\u001b[0m    | Flow run\u001b[35m 'tentacled-lyrebird'\u001b[0m - Submitted task run 'say_hello-1' for execution.\n"
      ]
     },
     "metadata": {},
     "output_type": "display_data"
    },
    {
     "data": {
      "text/html": [
       "<pre style=\"white-space:pre;overflow-x:auto;line-height:normal;font-family:Menlo,'DejaVu Sans Mono',consolas,'Courier New',monospace\">04:23:48.434 | <span style=\"color: #008080; text-decoration-color: #008080\">INFO</span>    | Flow run<span style=\"color: #800080; text-decoration-color: #800080\"> 'tentacled-lyrebird'</span> - Created task run 'say_goodbye-1' for task 'say_goodbye'\n",
       "</pre>\n"
      ],
      "text/plain": [
       "04:23:48.434 | \u001b[36mINFO\u001b[0m    | Flow run\u001b[35m 'tentacled-lyrebird'\u001b[0m - Created task run 'say_goodbye-1' for task 'say_goodbye'\n"
      ]
     },
     "metadata": {},
     "output_type": "display_data"
    },
    {
     "data": {
      "text/html": [
       "<pre style=\"white-space:pre;overflow-x:auto;line-height:normal;font-family:Menlo,'DejaVu Sans Mono',consolas,'Courier New',monospace\">04:23:48.439 | <span style=\"color: #008080; text-decoration-color: #008080\">INFO</span>    | Flow run<span style=\"color: #800080; text-decoration-color: #800080\"> 'tentacled-lyrebird'</span> - Submitted task run 'say_goodbye-1' for execution.\n",
       "</pre>\n"
      ],
      "text/plain": [
       "04:23:48.439 | \u001b[36mINFO\u001b[0m    | Flow run\u001b[35m 'tentacled-lyrebird'\u001b[0m - Submitted task run 'say_goodbye-1' for execution.\n"
      ]
     },
     "metadata": {},
     "output_type": "display_data"
    },
    {
     "data": {
      "text/html": [
       "<pre style=\"white-space:pre;overflow-x:auto;line-height:normal;font-family:Menlo,'DejaVu Sans Mono',consolas,'Courier New',monospace\">04:23:48.441 | <span style=\"color: #008080; text-decoration-color: #008080\">INFO</span>    | Flow run<span style=\"color: #800080; text-decoration-color: #800080\"> 'tentacled-lyrebird'</span> - Created task run 'say_goodbye-2' for task 'say_goodbye'\n",
       "</pre>\n"
      ],
      "text/plain": [
       "04:23:48.441 | \u001b[36mINFO\u001b[0m    | Flow run\u001b[35m 'tentacled-lyrebird'\u001b[0m - Created task run 'say_goodbye-2' for task 'say_goodbye'\n"
      ]
     },
     "metadata": {},
     "output_type": "display_data"
    },
    {
     "data": {
      "text/html": [
       "<pre style=\"white-space:pre;overflow-x:auto;line-height:normal;font-family:Menlo,'DejaVu Sans Mono',consolas,'Courier New',monospace\">04:23:48.445 | <span style=\"color: #008080; text-decoration-color: #008080\">INFO</span>    | Flow run<span style=\"color: #800080; text-decoration-color: #800080\"> 'tentacled-lyrebird'</span> - Submitted task run 'say_goodbye-2' for execution.\n",
       "</pre>\n"
      ],
      "text/plain": [
       "04:23:48.445 | \u001b[36mINFO\u001b[0m    | Flow run\u001b[35m 'tentacled-lyrebird'\u001b[0m - Submitted task run 'say_goodbye-2' for execution.\n"
      ]
     },
     "metadata": {},
     "output_type": "display_data"
    },
    {
     "data": {
      "text/html": [
       "<pre style=\"white-space:pre;overflow-x:auto;line-height:normal;font-family:Menlo,'DejaVu Sans Mono',consolas,'Courier New',monospace\">04:23:48.451 | <span style=\"color: #008080; text-decoration-color: #008080\">INFO</span>    | Flow run<span style=\"color: #800080; text-decoration-color: #800080\"> 'tentacled-lyrebird'</span> - Created task run 'say_goodbye-3' for task 'say_goodbye'\n",
       "</pre>\n"
      ],
      "text/plain": [
       "04:23:48.451 | \u001b[36mINFO\u001b[0m    | Flow run\u001b[35m 'tentacled-lyrebird'\u001b[0m - Created task run 'say_goodbye-3' for task 'say_goodbye'\n"
      ]
     },
     "metadata": {},
     "output_type": "display_data"
    },
    {
     "data": {
      "text/html": [
       "<pre style=\"white-space:pre;overflow-x:auto;line-height:normal;font-family:Menlo,'DejaVu Sans Mono',consolas,'Courier New',monospace\">04:23:48.456 | <span style=\"color: #008080; text-decoration-color: #008080\">INFO</span>    | Flow run<span style=\"color: #800080; text-decoration-color: #800080\"> 'tentacled-lyrebird'</span> - Submitted task run 'say_goodbye-3' for execution.\n",
       "</pre>\n"
      ],
      "text/plain": [
       "04:23:48.456 | \u001b[36mINFO\u001b[0m    | Flow run\u001b[35m 'tentacled-lyrebird'\u001b[0m - Submitted task run 'say_goodbye-3' for execution.\n"
      ]
     },
     "metadata": {},
     "output_type": "display_data"
    },
    {
     "data": {
      "text/html": [
       "<pre style=\"white-space:pre;overflow-x:auto;line-height:normal;font-family:Menlo,'DejaVu Sans Mono',consolas,'Courier New',monospace\">04:23:48.466 | <span style=\"color: #008080; text-decoration-color: #008080\">INFO</span>    | Flow run<span style=\"color: #800080; text-decoration-color: #800080\"> 'tentacled-lyrebird'</span> - Created task run 'say_hello-2' for task 'say_hello'\n",
       "</pre>\n"
      ],
      "text/plain": [
       "04:23:48.466 | \u001b[36mINFO\u001b[0m    | Flow run\u001b[35m 'tentacled-lyrebird'\u001b[0m - Created task run 'say_hello-2' for task 'say_hello'\n"
      ]
     },
     "metadata": {},
     "output_type": "display_data"
    },
    {
     "data": {
      "text/html": [
       "<pre style=\"white-space:pre;overflow-x:auto;line-height:normal;font-family:Menlo,'DejaVu Sans Mono',consolas,'Courier New',monospace\">04:23:48.471 | <span style=\"color: #008080; text-decoration-color: #008080\">INFO</span>    | Flow run<span style=\"color: #800080; text-decoration-color: #800080\"> 'tentacled-lyrebird'</span> - Submitted task run 'say_hello-2' for execution.\n",
       "</pre>\n"
      ],
      "text/plain": [
       "04:23:48.471 | \u001b[36mINFO\u001b[0m    | Flow run\u001b[35m 'tentacled-lyrebird'\u001b[0m - Submitted task run 'say_hello-2' for execution.\n"
      ]
     },
     "metadata": {},
     "output_type": "display_data"
    },
    {
     "data": {
      "text/html": [
       "<pre style=\"white-space:pre;overflow-x:auto;line-height:normal;font-family:Menlo,'DejaVu Sans Mono',consolas,'Courier New',monospace\">04:23:48.476 | <span style=\"color: #008080; text-decoration-color: #008080\">INFO</span>    | Flow run<span style=\"color: #800080; text-decoration-color: #800080\"> 'tentacled-lyrebird'</span> - Created task run 'say_hello-3' for task 'say_hello'\n",
       "</pre>\n"
      ],
      "text/plain": [
       "04:23:48.476 | \u001b[36mINFO\u001b[0m    | Flow run\u001b[35m 'tentacled-lyrebird'\u001b[0m - Created task run 'say_hello-3' for task 'say_hello'\n"
      ]
     },
     "metadata": {},
     "output_type": "display_data"
    },
    {
     "data": {
      "text/html": [
       "<pre style=\"white-space:pre;overflow-x:auto;line-height:normal;font-family:Menlo,'DejaVu Sans Mono',consolas,'Courier New',monospace\">04:23:48.480 | <span style=\"color: #008080; text-decoration-color: #008080\">INFO</span>    | Flow run<span style=\"color: #800080; text-decoration-color: #800080\"> 'tentacled-lyrebird'</span> - Submitted task run 'say_hello-3' for execution.\n",
       "</pre>\n"
      ],
      "text/plain": [
       "04:23:48.480 | \u001b[36mINFO\u001b[0m    | Flow run\u001b[35m 'tentacled-lyrebird'\u001b[0m - Submitted task run 'say_hello-3' for execution.\n"
      ]
     },
     "metadata": {},
     "output_type": "display_data"
    },
    {
     "name": "stderr",
     "output_type": "stream",
     "text": [
      "04:23:50.774 | \u001b[36mINFO\u001b[0m    | Task run 'say_goodbye-1' - goodbye trillian\n",
      "04:23:50.816 | \u001b[36mINFO\u001b[0m    | Task run 'say_goodbye-1' - Finished in state \u001b[32mCompleted\u001b[0m()\n",
      "04:23:50.845 | \u001b[36mINFO\u001b[0m    | Task run 'say_hello-0' - hello arthur\n",
      "04:23:50.899 | \u001b[36mINFO\u001b[0m    | Task run 'say_hello-2' - hello ford\n",
      "04:23:50.905 | \u001b[36mINFO\u001b[0m    | Task run 'say_hello-0' - Finished in state \u001b[32mCompleted\u001b[0m()\n",
      "04:23:50.929 | \u001b[36mINFO\u001b[0m    | Task run 'say_goodbye-2' - goodbye ford\n",
      "04:23:50.959 | \u001b[36mINFO\u001b[0m    | Task run 'say_hello-2' - Finished in state \u001b[32mCompleted\u001b[0m()\n",
      "04:23:50.973 | \u001b[36mINFO\u001b[0m    | Task run 'say_goodbye-0' - goodbye arthur\n",
      "04:23:50.984 | \u001b[36mINFO\u001b[0m    | Task run 'say_goodbye-2' - Finished in state \u001b[32mCompleted\u001b[0m()\n",
      "04:23:50.997 | \u001b[36mINFO\u001b[0m    | Task run 'say_goodbye-3' - goodbye marvin\n",
      "04:23:51.039 | \u001b[36mINFO\u001b[0m    | Task run 'say_goodbye-0' - Finished in state \u001b[32mCompleted\u001b[0m()\n",
      "04:23:51.045 | \u001b[36mINFO\u001b[0m    | Task run 'say_goodbye-3' - Finished in state \u001b[32mCompleted\u001b[0m()\n",
      "04:23:51.042 | \u001b[36mINFO\u001b[0m    | Task run 'say_hello-1' - hello trillian\n",
      "04:23:51.049 | \u001b[36mINFO\u001b[0m    | Task run 'say_hello-3' - hello marvin\n",
      "04:23:51.168 | \u001b[36mINFO\u001b[0m    | Task run 'say_hello-1' - Finished in state \u001b[32mCompleted\u001b[0m()\n",
      "04:23:51.175 | \u001b[36mINFO\u001b[0m    | Task run 'say_hello-3' - Finished in state \u001b[32mCompleted\u001b[0m()\n"
     ]
    },
    {
     "data": {
      "text/html": [
       "<pre style=\"white-space:pre;overflow-x:auto;line-height:normal;font-family:Menlo,'DejaVu Sans Mono',consolas,'Courier New',monospace\">04:23:52.232 | <span style=\"color: #008080; text-decoration-color: #008080\">INFO</span>    | Flow run<span style=\"color: #800080; text-decoration-color: #800080\"> 'tentacled-lyrebird'</span> - Finished in state <span style=\"color: #008000; text-decoration-color: #008000\">Completed</span>('All states completed.')\n",
       "</pre>\n"
      ],
      "text/plain": [
       "04:23:52.232 | \u001b[36mINFO\u001b[0m    | Flow run\u001b[35m 'tentacled-lyrebird'\u001b[0m - Finished in state \u001b[32mCompleted\u001b[0m('All states completed.')\n"
      ]
     },
     "metadata": {},
     "output_type": "display_data"
    }
   ],
   "source": [
    "from prefect import flow, get_run_logger, task\n",
    "from prefect_dask.task_runners import DaskTaskRunner\n",
    "\n",
    "\n",
    "@task\n",
    "def say_hello(name: str) -> None:\n",
    "    # logs not currently working see https://github.com/PrefectHQ/prefect/issues/5850\n",
    "    logger = get_run_logger()\n",
    "    logger.info(f\"hello {name}\")\n",
    "\n",
    "\n",
    "@task\n",
    "def say_goodbye(name: str) -> None:\n",
    "    logger = get_run_logger()\n",
    "    logger.info(f\"goodbye {name}\")\n",
    "\n",
    "\n",
    "# TODO: can the task runner be parameterised so we don't duplicate the flow with dask_kubes_flow?\n",
    "# see https://github.com/PrefectHQ/prefect/issues/5560\n",
    "\n",
    "\n",
    "# creates a LocalCluster https://docs.dask.org/en/stable/deploying-python.html#localcluster\n",
    "@flow(task_runner=DaskTaskRunner(cluster=cluster))\n",
    "def dask(names: list[str]) -> None:\n",
    "    for name in names:\n",
    "        # tasks must be submitted to run on dask\n",
    "        # if called without .submit() they are still tracked but\n",
    "        # run immediately and locally rather than async on dask\n",
    "        say_hello.submit(name)\n",
    "        say_goodbye.submit(name)\n",
    "\n",
    "\n",
    "if __name__ == \"__main__\":\n",
    "    dask([\"arthur\", \"trillian\", \"ford\", \"marvin\"])"
   ]
  },
  {
   "cell_type": "code",
   "execution_count": null,
   "metadata": {},
   "outputs": [],
   "source": []
  },
  {
   "cell_type": "code",
   "execution_count": null,
   "metadata": {},
   "outputs": [],
   "source": []
  },
  {
   "cell_type": "code",
   "execution_count": null,
   "metadata": {},
   "outputs": [],
   "source": []
  },
  {
   "cell_type": "code",
   "execution_count": null,
   "metadata": {},
   "outputs": [],
   "source": []
  },
  {
   "cell_type": "code",
   "execution_count": null,
   "metadata": {},
   "outputs": [],
   "source": []
  },
  {
   "cell_type": "code",
   "execution_count": null,
   "metadata": {},
   "outputs": [],
   "source": []
  },
  {
   "cell_type": "code",
   "execution_count": null,
   "metadata": {},
   "outputs": [],
   "source": []
  },
  {
   "cell_type": "code",
   "execution_count": null,
   "metadata": {},
   "outputs": [],
   "source": []
  },
  {
   "cell_type": "markdown",
   "metadata": {},
   "source": [
    "# Temporary Dask Cluster\n",
    "Some users may prefer to spin up a Dask cluster (i.e. Slurm job) for each indiviual @flow. This is also possible in Prefect. (Note that the example below will complain about an open port if you have already instantiated a Dask cluster above.)\n",
    "\n"
   ]
  },
  {
   "cell_type": "markdown",
   "metadata": {},
   "source": [
    "from prefect import flow, task\n",
    "from prefect_dask import DaskTaskRunner\n",
    "\n",
    "@flow(task_runner=DaskTaskRunner(cluster_class=SLURMCluster, cluster_kwargs=cluster_kwargs))\n",
    "def workflow(a: float, b: float) -> float:\n",
    "    output1 = add.submit(a, b)\n",
    "    output2 = mult.submit(output1, b)\n",
    "    return output2\n",
    "\n",
    "@task\n",
    "def add(a: float, b: float) -> float:\n",
    "    return a + b\n",
    "\n",
    "@task\n",
    "def mult(a: float, b: float) -> float:\n",
    "    return a * b\n",
    "\n",
    "workflow(1, 2).result()"
   ]
  },
  {
   "cell_type": "code",
   "execution_count": null,
   "metadata": {},
   "outputs": [],
   "source": []
  }
 ],
 "metadata": {
  "kernelspec": {
   "display_name": "NERSC Python",
   "language": "python",
   "name": "python3"
  },
  "language_info": {
   "codemirror_mode": {
    "name": "ipython",
    "version": 3
   },
   "file_extension": ".py",
   "mimetype": "text/x-python",
   "name": "python",
   "nbconvert_exporter": "python",
   "pygments_lexer": "ipython3",
   "version": "3.11.7"
  }
 },
 "nbformat": 4,
 "nbformat_minor": 4
}
