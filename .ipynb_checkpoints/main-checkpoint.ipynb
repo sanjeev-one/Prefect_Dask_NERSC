{
 "cells": [
  {
   "cell_type": "code",
   "execution_count": 1,
   "metadata": {},
   "outputs": [
    {
     "name": "stdout",
     "output_type": "stream",
     "text": [
      "#!/bin/bash\n",
      "\n",
      "#SBATCH -J dask-worker\n",
      "#SBATCH -A facet\n",
      "#SBATCH --mem=0\n",
      "#SBATCH -t 00:10:00\n",
      "#SBATCH -q debug\n",
      "#SBATCH -C cpu\n",
      "source ~/.bashrc\n",
      "/sdf/home/s/sanjeev/miniforge3/envs/prefect/bin/python -m distributed.cli.dask_worker tcp://172.24.48.134:41653 --name dummy-name --nthreads 3 --memory-limit 2.33GiB --nworkers 4 --nanny --death-timeout 60\n",
      "\n"
     ]
    }
   ],
   "source": [
    "#pip install prefect[dask] dask-jobqueue\n",
    "# prefect config set PREFECT_API_URL=\"https://ard-modeling-service.slac.stanford.edu/api\" \n",
    "\n",
    "from dask.distributed import Client\n",
    "from dask_jobqueue import SLURMCluster\n",
    "\n",
    "cluster_kwargs = {\n",
    "    \"cores\": 12,  \n",
    "    \"memory\": \"10 GB\",\n",
    "    \"shebang\": \"#!/bin/bash\",\n",
    "    \"account\": \"facet\",\n",
    "    \"walltime\": \"00:10:00\",\n",
    "    \"job_mem\": \"0\",\n",
    "    \"job_script_prologue\": [\"source ~/.bashrc\"],\n",
    "    \"job_directives_skip\": [\"-n\", \"--cpus-per-task\"],  \n",
    "    \"job_extra_directives\": [\"-q debug\", \"-C cpu\"],  \n",
    "}\n",
    "\n",
    "cluster = SLURMCluster(**cluster_kwargs)\n",
    "print(cluster.job_script())\n"
   ]
  },
  {
   "cell_type": "code",
   "execution_count": 4,
   "metadata": {},
   "outputs": [
    {
     "name": "stdout",
     "output_type": "stream",
     "text": [
      "/bin/bash: srun: command not found\n"
     ]
    }
   ],
   "source": [
    "!srun"
   ]
  },
  {
   "cell_type": "code",
   "execution_count": 2,
   "metadata": {},
   "outputs": [
    {
     "name": "stderr",
     "output_type": "stream",
     "text": [
      "2024-06-20 21:41:26,726 - tornado.application - ERROR - Exception in callback functools.partial(<bound method IOLoop._discard_future_result of <tornado.platform.asyncio.AsyncIOMainLoop object at 0x7f584c9d4fe0>>, <Task finished name='Task-527' coro=<SpecCluster._correct_state_internal() done, defined at /sdf/home/s/sanjeev/miniforge3/envs/prefect/lib/python3.12/site-packages/distributed/deploy/spec.py:346> exception=FileNotFoundError(2, 'No such file or directory')>)\n",
      "Traceback (most recent call last):\n",
      "  File \"/sdf/home/s/sanjeev/miniforge3/envs/prefect/lib/python3.12/site-packages/tornado/ioloop.py\", line 750, in _run_callback\n",
      "    ret = callback()\n",
      "          ^^^^^^^^^^\n",
      "  File \"/sdf/home/s/sanjeev/miniforge3/envs/prefect/lib/python3.12/site-packages/tornado/ioloop.py\", line 774, in _discard_future_result\n",
      "    future.result()\n",
      "  File \"/sdf/home/s/sanjeev/miniforge3/envs/prefect/lib/python3.12/site-packages/distributed/deploy/spec.py\", line 390, in _correct_state_internal\n",
      "    await asyncio.gather(*worker_futs)\n",
      "  File \"/sdf/home/s/sanjeev/miniforge3/envs/prefect/lib/python3.12/asyncio/tasks.py\", line 684, in _wrap_awaitable\n",
      "    return await awaitable\n",
      "           ^^^^^^^^^^^^^^^\n",
      "  File \"/sdf/home/s/sanjeev/miniforge3/envs/prefect/lib/python3.12/site-packages/distributed/deploy/spec.py\", line 74, in _\n",
      "    await self.start()\n",
      "  File \"/sdf/home/s/sanjeev/miniforge3/envs/prefect/lib/python3.12/site-packages/dask_jobqueue/core.py\", line 426, in start\n",
      "    out = await self._submit_job(fn)\n",
      "          ^^^^^^^^^^^^^^^^^^^^^^^^^^\n",
      "  File \"/sdf/home/s/sanjeev/miniforge3/envs/prefect/lib/python3.12/site-packages/dask_jobqueue/core.py\", line 409, in _submit_job\n",
      "    return await self._call(shlex.split(self.submit_command) + [script_filename])\n",
      "           ^^^^^^^^^^^^^^^^^^^^^^^^^^^^^^^^^^^^^^^^^^^^^^^^^^^^^^^^^^^^^^^^^^^^^^\n",
      "  File \"/sdf/home/s/sanjeev/miniforge3/envs/prefect/lib/python3.12/site-packages/dask_jobqueue/core.py\", line 494, in _call\n",
      "    proc = await asyncio.create_subprocess_exec(\n",
      "           ^^^^^^^^^^^^^^^^^^^^^^^^^^^^^^^^^^^^^\n",
      "  File \"/sdf/home/s/sanjeev/miniforge3/envs/prefect/lib/python3.12/asyncio/subprocess.py\", line 224, in create_subprocess_exec\n",
      "    transport, protocol = await loop.subprocess_exec(\n",
      "                          ^^^^^^^^^^^^^^^^^^^^^^^^^^^\n",
      "  File \"/sdf/home/s/sanjeev/miniforge3/envs/prefect/lib/python3.12/asyncio/base_events.py\", line 1744, in subprocess_exec\n",
      "    transport = await self._make_subprocess_transport(\n",
      "                ^^^^^^^^^^^^^^^^^^^^^^^^^^^^^^^^^^^^^^\n",
      "  File \"/sdf/home/s/sanjeev/miniforge3/envs/prefect/lib/python3.12/asyncio/unix_events.py\", line 211, in _make_subprocess_transport\n",
      "    transp = _UnixSubprocessTransport(self, protocol, args, shell,\n",
      "             ^^^^^^^^^^^^^^^^^^^^^^^^^^^^^^^^^^^^^^^^^^^^^^^^^^^^^\n",
      "  File \"/sdf/home/s/sanjeev/miniforge3/envs/prefect/lib/python3.12/asyncio/base_subprocess.py\", line 36, in __init__\n",
      "    self._start(args=args, shell=shell, stdin=stdin, stdout=stdout,\n",
      "  File \"/sdf/home/s/sanjeev/miniforge3/envs/prefect/lib/python3.12/asyncio/unix_events.py\", line 820, in _start\n",
      "    self._proc = subprocess.Popen(\n",
      "                 ^^^^^^^^^^^^^^^^^\n",
      "  File \"/sdf/home/s/sanjeev/miniforge3/envs/prefect/lib/python3.12/subprocess.py\", line 1026, in __init__\n",
      "    self._execute_child(args, executable, preexec_fn, close_fds,\n",
      "  File \"/sdf/home/s/sanjeev/miniforge3/envs/prefect/lib/python3.12/subprocess.py\", line 1955, in _execute_child\n",
      "    raise child_exception_type(errno_num, err_msg, err_filename)\n",
      "FileNotFoundError: [Errno 2] No such file or directory: 'sbatch'\n",
      "Task exception was never retrieved\n",
      "future: <Task finished name='Task-534' coro=<_wrap_awaitable() done, defined at /sdf/home/s/sanjeev/miniforge3/envs/prefect/lib/python3.12/site-packages/distributed/deploy/spec.py:124> exception=FileNotFoundError(2, 'No such file or directory')>\n",
      "Traceback (most recent call last):\n",
      "  File \"/sdf/home/s/sanjeev/miniforge3/envs/prefect/lib/python3.12/site-packages/distributed/deploy/spec.py\", line 125, in _wrap_awaitable\n",
      "    return await aw\n",
      "           ^^^^^^^^\n",
      "  File \"/sdf/home/s/sanjeev/miniforge3/envs/prefect/lib/python3.12/site-packages/distributed/deploy/spec.py\", line 74, in _\n",
      "    await self.start()\n",
      "  File \"/sdf/home/s/sanjeev/miniforge3/envs/prefect/lib/python3.12/site-packages/dask_jobqueue/core.py\", line 426, in start\n",
      "    out = await self._submit_job(fn)\n",
      "          ^^^^^^^^^^^^^^^^^^^^^^^^^^\n",
      "  File \"/sdf/home/s/sanjeev/miniforge3/envs/prefect/lib/python3.12/site-packages/dask_jobqueue/core.py\", line 409, in _submit_job\n",
      "    return await self._call(shlex.split(self.submit_command) + [script_filename])\n",
      "           ^^^^^^^^^^^^^^^^^^^^^^^^^^^^^^^^^^^^^^^^^^^^^^^^^^^^^^^^^^^^^^^^^^^^^^\n",
      "  File \"/sdf/home/s/sanjeev/miniforge3/envs/prefect/lib/python3.12/site-packages/dask_jobqueue/core.py\", line 494, in _call\n",
      "    proc = await asyncio.create_subprocess_exec(\n",
      "           ^^^^^^^^^^^^^^^^^^^^^^^^^^^^^^^^^^^^^\n",
      "  File \"/sdf/home/s/sanjeev/miniforge3/envs/prefect/lib/python3.12/asyncio/subprocess.py\", line 224, in create_subprocess_exec\n",
      "    transport, protocol = await loop.subprocess_exec(\n",
      "                          ^^^^^^^^^^^^^^^^^^^^^^^^^^^\n",
      "  File \"/sdf/home/s/sanjeev/miniforge3/envs/prefect/lib/python3.12/asyncio/base_events.py\", line 1744, in subprocess_exec\n",
      "    transport = await self._make_subprocess_transport(\n",
      "                ^^^^^^^^^^^^^^^^^^^^^^^^^^^^^^^^^^^^^^\n",
      "  File \"/sdf/home/s/sanjeev/miniforge3/envs/prefect/lib/python3.12/asyncio/unix_events.py\", line 211, in _make_subprocess_transport\n",
      "    transp = _UnixSubprocessTransport(self, protocol, args, shell,\n",
      "             ^^^^^^^^^^^^^^^^^^^^^^^^^^^^^^^^^^^^^^^^^^^^^^^^^^^^^\n",
      "  File \"/sdf/home/s/sanjeev/miniforge3/envs/prefect/lib/python3.12/asyncio/base_subprocess.py\", line 36, in __init__\n",
      "    self._start(args=args, shell=shell, stdin=stdin, stdout=stdout,\n",
      "  File \"/sdf/home/s/sanjeev/miniforge3/envs/prefect/lib/python3.12/asyncio/unix_events.py\", line 820, in _start\n",
      "    self._proc = subprocess.Popen(\n",
      "                 ^^^^^^^^^^^^^^^^^\n",
      "  File \"/sdf/home/s/sanjeev/miniforge3/envs/prefect/lib/python3.12/subprocess.py\", line 1026, in __init__\n",
      "    self._execute_child(args, executable, preexec_fn, close_fds,\n",
      "  File \"/sdf/home/s/sanjeev/miniforge3/envs/prefect/lib/python3.12/subprocess.py\", line 1955, in _execute_child\n",
      "    raise child_exception_type(errno_num, err_msg, err_filename)\n",
      "FileNotFoundError: [Errno 2] No such file or directory: 'sbatch'\n"
     ]
    }
   ],
   "source": [
    "slurm_jobs = 1\n",
    "cluster.scale(jobs=slurm_jobs)\n",
    "client = Client(cluster)"
   ]
  },
  {
   "cell_type": "code",
   "execution_count": null,
   "metadata": {},
   "outputs": [],
   "source": [
    "from prefect import flow, task\n",
    "from prefect_dask import DaskTaskRunner\n",
    "\n",
    "@flow(task_runner=DaskTaskRunner(address=client.scheduler.address))\n",
    "def workflow(a: float, b: float) -> float:\n",
    "    output1 = add.submit(a, b)\n",
    "    output2 = mult.submit(output1, b)\n",
    "    return output2\n",
    "\n",
    "@task\n",
    "def add(a: float, b: float) -> float:\n",
    "    return a + b\n",
    "\n",
    "@task\n",
    "def mult(a: float, b: float) -> float:\n",
    "    return a * b"
   ]
  },
  {
   "cell_type": "code",
   "execution_count": null,
   "metadata": {},
   "outputs": [],
   "source": [
    "output = workflow(1, 2)\n",
    "print(output.result())"
   ]
  },
  {
   "cell_type": "markdown",
   "metadata": {},
   "source": [
    "# Temporary Dask Cluster\n",
    "Some users may prefer to spin up a Dask cluster (i.e. Slurm job) for each indiviual @flow. This is also possible in Prefect. (Note that the example below will complain about an open port if you have already instantiated a Dask cluster above.)\n",
    "\n"
   ]
  },
  {
   "cell_type": "code",
   "execution_count": null,
   "metadata": {},
   "outputs": [],
   "source": [
    "from prefect import flow, task\n",
    "from prefect_dask import DaskTaskRunner\n",
    "\n",
    "@flow(task_runner=DaskTaskRunner(cluster_class=SLURMCluster, cluster_kwargs=cluster_kwargs))\n",
    "def workflow(a: float, b: float) -> float:\n",
    "    output1 = add.submit(a, b)\n",
    "    output2 = mult.submit(output1, b)\n",
    "    return output2\n",
    "\n",
    "@task\n",
    "def add(a: float, b: float) -> float:\n",
    "    return a + b\n",
    "\n",
    "@task\n",
    "def mult(a: float, b: float) -> float:\n",
    "    return a * b\n",
    "\n",
    "workflow(1, 2).result()"
   ]
  }
 ],
 "metadata": {
  "kernelspec": {
   "display_name": "Python 3 (ipykernel)",
   "language": "python",
   "name": "python3"
  },
  "language_info": {
   "codemirror_mode": {
    "name": "ipython",
    "version": 3
   },
   "file_extension": ".py",
   "mimetype": "text/x-python",
   "name": "python",
   "nbconvert_exporter": "python",
   "pygments_lexer": "ipython3",
   "version": "3.12.4"
  }
 },
 "nbformat": 4,
 "nbformat_minor": 4
}
