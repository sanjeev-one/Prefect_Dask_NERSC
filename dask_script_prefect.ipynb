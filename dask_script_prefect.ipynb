{
 "cells": [
  {
   "cell_type": "markdown",
   "id": "dea217ee-9b2e-46d3-93aa-b38d8b1d0c26",
   "metadata": {},
   "source": [
    "# Starting a Dask CPU cluster using the Python module/NERSC Python Jupyter kernel"
   ]
  },
  {
   "cell_type": "markdown",
   "id": "3391228e-b25c-470f-b393-bf4235ea7797",
   "metadata": {},
   "source": [
    "## Start your Dask CPU cluster in a Slurm job\n",
    "Before you start your Dask client, we first have to start our Dask cluster\n",
    "Open a Jupyter terminal (File -> New -> Terminal) or a normal terminal\n",
    "and enter the following\n",
    "\n",
    "```shell\n",
    "salloc -N 2 -n 64 -t 30 -C cpu\n",
    "```\n",
    "\n",
    "and wait for your 2-node CPU job to start. When it's ready, we'll use a\n",
    "script to launch your CPU cluster. By default the script will launch\n",
    "64 total Dask workers (corresponds to the total number of \n",
    "Slurm tasks in your job). You can easily change the number of workers\n",
    "by changing `-n`. \n",
    "\n",
    "```shell\n",
    "cd $SCRATCH/nersc-notebooks/perlmutter/dask\n",
    "./launch.sh \n",
    "```\n",
    "\n",
    "Wait a minute or so for your cluster and workers to start. \n",
    "Then proceed to the cells below to start and connect your Dask client. \n",
    "Make sure you have selected the `NERSC Python` kernel in the top right corner \n",
    "of this Jupyter notebook. "
   ]
  },
  {
   "cell_type": "markdown",
   "id": "30c2b17a-6464-41cf-9b4c-5a1faf8bf01e",
   "metadata": {},
   "source": [
    "## Now connect to your cluster with Dask client\n",
    "\n",
    "Now that your cluster and workers are ready, we can connect to them via the Dask client. Let's start it now. Let's also help proxy the connection to the very useful Dask dashboard. "
   ]
  },
  {
   "cell_type": "code",
   "execution_count": 10,
   "id": "52e52383-fb3a-47a9-a80b-d0b91aeaf136",
   "metadata": {
    "tags": []
   },
   "outputs": [
    {
     "data": {
      "text/html": [
       "<div>\n",
       "    <div style=\"width: 24px; height: 24px; background-color: #e1e1e1; border: 3px solid #9D9D9D; border-radius: 5px; position: absolute;\"> </div>\n",
       "    <div style=\"margin-left: 48px;\">\n",
       "        <h3 style=\"margin-bottom: 0px;\">Client</h3>\n",
       "        <p style=\"color: #9D9D9D; margin-bottom: 0px;\">Client-2b9a9180-85c4-11ef-9f8a-5bcd771faa61</p>\n",
       "        <table style=\"width: 100%; text-align: left;\">\n",
       "\n",
       "        <tr>\n",
       "        \n",
       "            <td style=\"text-align: left;\"><strong>Connection method:</strong> Scheduler file</td>\n",
       "            <td style=\"text-align: left;\"><strong>Scheduler file:</strong> /pscratch/sd/s/sanjeevc/scheduler_file.json</td>\n",
       "        \n",
       "        </tr>\n",
       "\n",
       "        \n",
       "            <tr>\n",
       "                <td style=\"text-align: left;\">\n",
       "                    <strong>Dashboard: </strong> <a href=\"/user/sanjeevc/perlmutter-login-node-base/proxy/10.249.17.7:8787/status\" target=\"_blank\">/user/sanjeevc/perlmutter-login-node-base/proxy/10.249.17.7:8787/status</a>\n",
       "                </td>\n",
       "                <td style=\"text-align: left;\"></td>\n",
       "            </tr>\n",
       "        \n",
       "\n",
       "        </table>\n",
       "\n",
       "        \n",
       "\n",
       "        \n",
       "            <details>\n",
       "            <summary style=\"margin-bottom: 20px;\"><h3 style=\"display: inline;\">Scheduler Info</h3></summary>\n",
       "            <div style=\"\">\n",
       "    <div>\n",
       "        <div style=\"width: 24px; height: 24px; background-color: #FFF7E5; border: 3px solid #FF6132; border-radius: 5px; position: absolute;\"> </div>\n",
       "        <div style=\"margin-left: 48px;\">\n",
       "            <h3 style=\"margin-bottom: 0px;\">Scheduler</h3>\n",
       "            <p style=\"color: #9D9D9D; margin-bottom: 0px;\">Scheduler-cf3ffcae-7463-4b67-8abd-4d0ec6c8fa1d</p>\n",
       "            <table style=\"width: 100%; text-align: left;\">\n",
       "                <tr>\n",
       "                    <td style=\"text-align: left;\">\n",
       "                        <strong>Comm:</strong> tcp://10.249.17.7:8786\n",
       "                    </td>\n",
       "                    <td style=\"text-align: left;\">\n",
       "                        <strong>Workers:</strong> 0\n",
       "                    </td>\n",
       "                </tr>\n",
       "                <tr>\n",
       "                    <td style=\"text-align: left;\">\n",
       "                        <strong>Dashboard:</strong> <a href=\"/user/sanjeevc/perlmutter-login-node-base/proxy/10.249.17.7:8787/status\" target=\"_blank\">/user/sanjeevc/perlmutter-login-node-base/proxy/10.249.17.7:8787/status</a>\n",
       "                    </td>\n",
       "                    <td style=\"text-align: left;\">\n",
       "                        <strong>Total threads:</strong> 0\n",
       "                    </td>\n",
       "                </tr>\n",
       "                <tr>\n",
       "                    <td style=\"text-align: left;\">\n",
       "                        <strong>Started:</strong> Just now\n",
       "                    </td>\n",
       "                    <td style=\"text-align: left;\">\n",
       "                        <strong>Total memory:</strong> 0 B\n",
       "                    </td>\n",
       "                </tr>\n",
       "            </table>\n",
       "        </div>\n",
       "    </div>\n",
       "\n",
       "    <details style=\"margin-left: 48px;\">\n",
       "        <summary style=\"margin-bottom: 20px;\">\n",
       "            <h3 style=\"display: inline;\">Workers</h3>\n",
       "        </summary>\n",
       "\n",
       "        \n",
       "\n",
       "    </details>\n",
       "</div>\n",
       "            </details>\n",
       "        \n",
       "\n",
       "    </div>\n",
       "</div>"
      ],
      "text/plain": [
       "<Client: 'tcp://10.249.17.7:8786' processes=0 threads=0, memory=0 B>"
      ]
     },
     "execution_count": 10,
     "metadata": {},
     "output_type": "execute_result"
    },
    {
     "name": "stderr",
     "output_type": "stream",
     "text": [
      "2024-10-08 15:52:02,752 - distributed.client - ERROR - Failed to reconnect to scheduler after 30.00 seconds, closing client\n"
     ]
    }
   ],
   "source": [
    "import dask\n",
    "from dask.distributed import Client\n",
    "import os\n",
    "\n",
    "scheduler_file = os.path.join(os.environ[\"SCRATCH\"], \"scheduler_file.json\")\n",
    "\n",
    "dask.config.config[\"distributed\"][\"dashboard\"][\"link\"] = \"{JUPYTERHUB_SERVICE_PREFIX}proxy/{host}:{port}/status\" \n",
    "\n",
    "client = Client(scheduler_file=scheduler_file)\n",
    "client"
   ]
  },
  {
   "cell_type": "markdown",
   "id": "66c68f9d-855c-4cb3-9e62-3193a5b493fa",
   "metadata": {},
   "source": [
    "## Check your client and connect to the Dashboard\n",
    "\n",
    "Hopefully some information about the client has appeared. \n",
    "You can also click on the link to the Dask dashboard. It will open\n",
    "in a new tab. \n"
   ]
  },
  {
   "cell_type": "markdown",
   "id": "0e9c1679-63e9-4d6b-943d-fc41a0f76624",
   "metadata": {},
   "source": [
    "### Testing Prefect Flow\n"
   ]
  },
  {
   "cell_type": "code",
   "execution_count": 7,
   "id": "951ff8e6-b6e3-402e-93cd-3174007f241c",
   "metadata": {
    "tags": []
   },
   "outputs": [
    {
     "name": "stdout",
     "output_type": "stream",
     "text": [
      "Set 'PREFECT_API_URL' to 'https://ard-modeling-service.slac.stanford.edu/api'.\n",
      "\u001b[32mUpdated profile 'default'.\u001b[0m\n"
     ]
    }
   ],
   "source": [
    "!prefect config set PREFECT_API_URL=\"https://ard-modeling-service.slac.stanford.edu/api\" "
   ]
  },
  {
   "cell_type": "code",
   "execution_count": 8,
   "id": "62177bd9-7bfa-4234-aa2a-1e60b84ab6d0",
   "metadata": {
    "tags": []
   },
   "outputs": [],
   "source": [
    "from prefect import flow, task\n",
    "from prefect_dask import DaskTaskRunner\n",
    "\n",
    "@flow(task_runner=DaskTaskRunner(address=client.scheduler.address))\n",
    "def workflow(a: float, b: float) -> float:\n",
    "    output1 = add.submit(a, b)\n",
    "    output2 = mult.submit(output1, b)\n",
    "    return output2\n",
    "\n",
    "@task\n",
    "def add(a: float, b: float) -> float:\n",
    "    return a + b\n",
    "\n",
    "@task\n",
    "def mult(a: float, b: float) -> float:\n",
    "    return a * b"
   ]
  },
  {
   "cell_type": "code",
   "execution_count": 9,
   "id": "cb4d79dc-3e44-4b21-82fd-1bf99a2706bd",
   "metadata": {
    "tags": []
   },
   "outputs": [
    {
     "data": {
      "text/html": [
       "<pre style=\"white-space:pre;overflow-x:auto;line-height:normal;font-family:Menlo,'DejaVu Sans Mono',consolas,'Courier New',monospace\">14:48:46.334 | <span style=\"color: #008080; text-decoration-color: #008080\">INFO</span>    | prefect.engine - Created flow run<span style=\"color: #800080; text-decoration-color: #800080\"> 'illegal-jerboa'</span> for flow<span style=\"color: #800080; text-decoration-color: #800080; font-weight: bold\"> 'workflow'</span>\n",
       "</pre>\n"
      ],
      "text/plain": [
       "14:48:46.334 | \u001b[36mINFO\u001b[0m    | prefect.engine - Created flow run\u001b[35m 'illegal-jerboa'\u001b[0m for flow\u001b[1;35m 'workflow'\u001b[0m\n"
      ]
     },
     "metadata": {},
     "output_type": "display_data"
    },
    {
     "data": {
      "text/html": [
       "<pre style=\"white-space:pre;overflow-x:auto;line-height:normal;font-family:Menlo,'DejaVu Sans Mono',consolas,'Courier New',monospace\">14:48:46.339 | <span style=\"color: #008080; text-decoration-color: #008080\">INFO</span>    | Flow run<span style=\"color: #800080; text-decoration-color: #800080\"> 'illegal-jerboa'</span> - View at <span style=\"color: #0000ff; text-decoration-color: #0000ff\">https://ard-modeling-service.slac.stanford.edu/flow-runs/flow-run/dcc354d6-d81c-449e-8933-1b3213fd5f16</span>\n",
       "</pre>\n"
      ],
      "text/plain": [
       "14:48:46.339 | \u001b[36mINFO\u001b[0m    | Flow run\u001b[35m 'illegal-jerboa'\u001b[0m - View at \u001b[94mhttps://ard-modeling-service.slac.stanford.edu/flow-runs/flow-run/dcc354d6-d81c-449e-8933-1b3213fd5f16\u001b[0m\n"
      ]
     },
     "metadata": {},
     "output_type": "display_data"
    },
    {
     "data": {
      "text/html": [
       "<pre style=\"white-space:pre;overflow-x:auto;line-height:normal;font-family:Menlo,'DejaVu Sans Mono',consolas,'Courier New',monospace\">14:48:46.340 | <span style=\"color: #008080; text-decoration-color: #008080\">INFO</span>    | prefect.task_runner.dask - Connecting to an existing Dask cluster at tcp://10.249.16.63:8786\n",
       "</pre>\n"
      ],
      "text/plain": [
       "14:48:46.340 | \u001b[36mINFO\u001b[0m    | prefect.task_runner.dask - Connecting to an existing Dask cluster at tcp://10.249.16.63:8786\n"
      ]
     },
     "metadata": {},
     "output_type": "display_data"
    },
    {
     "data": {
      "text/html": [
       "<pre style=\"white-space:pre;overflow-x:auto;line-height:normal;font-family:Menlo,'DejaVu Sans Mono',consolas,'Courier New',monospace\">14:48:46.348 | <span style=\"color: #008080; text-decoration-color: #008080\">INFO</span>    | prefect.task_runner.dask - The Dask dashboard is available at /user/sanjeevc/perlmutter-login-node-base/proxy/10.249.16.63:8787/status\n",
       "</pre>\n"
      ],
      "text/plain": [
       "14:48:46.348 | \u001b[36mINFO\u001b[0m    | prefect.task_runner.dask - The Dask dashboard is available at /user/sanjeevc/perlmutter-login-node-base/proxy/10.249.16.63:8787/status\n"
      ]
     },
     "metadata": {},
     "output_type": "display_data"
    },
    {
     "data": {
      "text/html": [
       "<pre style=\"white-space:pre;overflow-x:auto;line-height:normal;font-family:Menlo,'DejaVu Sans Mono',consolas,'Courier New',monospace\">14:48:46.653 | <span style=\"color: #008080; text-decoration-color: #008080\">INFO</span>    | Flow run<span style=\"color: #800080; text-decoration-color: #800080\"> 'illegal-jerboa'</span> - Created task run 'add-0' for task 'add'\n",
       "</pre>\n"
      ],
      "text/plain": [
       "14:48:46.653 | \u001b[36mINFO\u001b[0m    | Flow run\u001b[35m 'illegal-jerboa'\u001b[0m - Created task run 'add-0' for task 'add'\n"
      ]
     },
     "metadata": {},
     "output_type": "display_data"
    },
    {
     "data": {
      "text/html": [
       "<pre style=\"white-space:pre;overflow-x:auto;line-height:normal;font-family:Menlo,'DejaVu Sans Mono',consolas,'Courier New',monospace\">14:48:46.660 | <span style=\"color: #008080; text-decoration-color: #008080\">INFO</span>    | Flow run<span style=\"color: #800080; text-decoration-color: #800080\"> 'illegal-jerboa'</span> - Submitted task run 'add-0' for execution.\n",
       "</pre>\n"
      ],
      "text/plain": [
       "14:48:46.660 | \u001b[36mINFO\u001b[0m    | Flow run\u001b[35m 'illegal-jerboa'\u001b[0m - Submitted task run 'add-0' for execution.\n"
      ]
     },
     "metadata": {},
     "output_type": "display_data"
    },
    {
     "data": {
      "text/html": [
       "<pre style=\"white-space:pre;overflow-x:auto;line-height:normal;font-family:Menlo,'DejaVu Sans Mono',consolas,'Courier New',monospace\">14:48:46.695 | <span style=\"color: #008080; text-decoration-color: #008080\">INFO</span>    | Flow run<span style=\"color: #800080; text-decoration-color: #800080\"> 'illegal-jerboa'</span> - Created task run 'mult-0' for task 'mult'\n",
       "</pre>\n"
      ],
      "text/plain": [
       "14:48:46.695 | \u001b[36mINFO\u001b[0m    | Flow run\u001b[35m 'illegal-jerboa'\u001b[0m - Created task run 'mult-0' for task 'mult'\n"
      ]
     },
     "metadata": {},
     "output_type": "display_data"
    },
    {
     "data": {
      "text/html": [
       "<pre style=\"white-space:pre;overflow-x:auto;line-height:normal;font-family:Menlo,'DejaVu Sans Mono',consolas,'Courier New',monospace\">14:48:46.699 | <span style=\"color: #008080; text-decoration-color: #008080\">INFO</span>    | Flow run<span style=\"color: #800080; text-decoration-color: #800080\"> 'illegal-jerboa'</span> - Submitted task run 'mult-0' for execution.\n",
       "</pre>\n"
      ],
      "text/plain": [
       "14:48:46.699 | \u001b[36mINFO\u001b[0m    | Flow run\u001b[35m 'illegal-jerboa'\u001b[0m - Submitted task run 'mult-0' for execution.\n"
      ]
     },
     "metadata": {},
     "output_type": "display_data"
    },
    {
     "data": {
      "text/html": [
       "<pre style=\"white-space:pre;overflow-x:auto;line-height:normal;font-family:Menlo,'DejaVu Sans Mono',consolas,'Courier New',monospace\">14:49:13.690 | <span style=\"color: #008080; text-decoration-color: #008080\">INFO</span>    | Flow run<span style=\"color: #800080; text-decoration-color: #800080\"> 'illegal-jerboa'</span> - Finished in state <span style=\"color: #008000; text-decoration-color: #008000\">Completed</span>('All states completed.')\n",
       "</pre>\n"
      ],
      "text/plain": [
       "14:49:13.690 | \u001b[36mINFO\u001b[0m    | Flow run\u001b[35m 'illegal-jerboa'\u001b[0m - Finished in state \u001b[32mCompleted\u001b[0m('All states completed.')\n"
      ]
     },
     "metadata": {},
     "output_type": "display_data"
    },
    {
     "name": "stdout",
     "output_type": "stream",
     "text": [
      "type='unpersisted' artifact_type='result' artifact_description='Unpersisted result of type `float`'\n"
     ]
    }
   ],
   "source": [
    "output = workflow(1, 2)\n",
    "print(output.result())"
   ]
  },
  {
   "cell_type": "code",
   "execution_count": null,
   "id": "a744f497-2172-4b92-bd21-6e01137081f5",
   "metadata": {},
   "outputs": [],
   "source": []
  }
 ],
 "metadata": {
  "kernelspec": {
   "display_name": "NERSC Python",
   "language": "python",
   "name": "python3"
  },
  "language_info": {
   "codemirror_mode": {
    "name": "ipython",
    "version": 3
   },
   "file_extension": ".py",
   "mimetype": "text/x-python",
   "name": "python",
   "nbconvert_exporter": "python",
   "pygments_lexer": "ipython3",
   "version": "3.11.7"
  }
 },
 "nbformat": 4,
 "nbformat_minor": 5
}
