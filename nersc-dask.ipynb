{
 "cells": [
  {
   "cell_type": "code",
   "execution_count": 1,
   "metadata": {},
   "outputs": [],
   "source": [
    "#!pip install prefect[dask] dask-jobqueue\n"
   ]
  },
  {
   "cell_type": "code",
   "execution_count": 2,
   "metadata": {},
   "outputs": [],
   "source": [
    "#!prefect config set PREFECT_API_URL=\"https://ard-modeling-service.slac.stanford.edu/api\" \n"
   ]
  },
  {
   "cell_type": "code",
   "execution_count": 3,
   "metadata": {
    "tags": []
   },
   "outputs": [],
   "source": [
    "#!python -m pip install jupyter-server-proxy"
   ]
  },
  {
   "cell_type": "code",
   "execution_count": 15,
   "metadata": {
    "tags": []
   },
   "outputs": [
    {
     "name": "stdout",
     "output_type": "stream",
     "text": [
      "#!/bin/bash\n",
      "\n",
      "#SBATCH -J dask-worker\n",
      "#SBATCH -n 1\n",
      "#SBATCH --cpus-per-task=1\n",
      "#SBATCH --mem=10G\n",
      "#SBATCH -t 00:10:00\n",
      "#SBATCH -A m669\n",
      "#SBATCH -q regular\n",
      "#SBATCH --constraint=cpu\n",
      "source ~/.bashrc\n",
      "/global/common/software/nersc/pe/conda-envs/24.1.0/python-3.11/nersc-python/bin/python -m distributed.cli.dask_worker tcp://<insert-scheduler-address-here>:8786 --name dummy-name --nthreads 1 --memory-limit 9.31GiB --nanny --death-timeout 60\n",
      "\n"
     ]
    },
    {
     "data": {
      "text/html": [
       "<div>\n",
       "    <div style=\"width: 24px; height: 24px; background-color: #e1e1e1; border: 3px solid #9D9D9D; border-radius: 5px; position: absolute;\"> </div>\n",
       "    <div style=\"margin-left: 48px;\">\n",
       "        <h3 style=\"margin-bottom: 0px;\">Client</h3>\n",
       "        <p style=\"color: #9D9D9D; margin-bottom: 0px;\">Client-b074c386-6fe1-11ef-add8-05d2cb95372e</p>\n",
       "        <table style=\"width: 100%; text-align: left;\">\n",
       "\n",
       "        <tr>\n",
       "        \n",
       "            <td style=\"text-align: left;\"><strong>Connection method:</strong> Cluster object</td>\n",
       "            <td style=\"text-align: left;\"><strong>Cluster type:</strong> dask_jobqueue.SLURMCluster</td>\n",
       "        \n",
       "        </tr>\n",
       "\n",
       "        \n",
       "\n",
       "        </table>\n",
       "\n",
       "        \n",
       "\n",
       "        \n",
       "            <p>No scheduler connected.</p>\n",
       "        \n",
       "\n",
       "    </div>\n",
       "</div>"
      ],
      "text/plain": [
       "<Client: No scheduler connected>"
      ]
     },
     "execution_count": 15,
     "metadata": {},
     "output_type": "execute_result"
    },
    {
     "name": "stderr",
     "output_type": "stream",
     "text": [
      "/global/common/software/nersc/pe/conda-envs/24.1.0/python-3.11/nersc-python/lib/python3.11/site-packages/distributed/node.py:182: UserWarning: Port 8787 is already in use.\n",
      "Perhaps you already have a cluster running?\n",
      "Hosting the HTTP server on port 38991 instead\n",
      "  warnings.warn(\n"
     ]
    }
   ],
   "source": [
    "\n",
    "from dask.distributed import Client\n",
    "from dask_jobqueue import SLURMCluster\n",
    "\n",
    "# Simplify SLURMCluster parameters to basic working configuration\n",
    "\n",
    "#SBATCH --qos=debug\n",
    "#SBATCH --time=5\n",
    "#SBATCH --nodes=2\n",
    "#SBATCH --ntasks-per-node=128\n",
    "#SBATCH --constraint=cpu\n",
    "\n",
    "\n",
    "cluster_kwargs = {\n",
    "    \"cores\": 1,  \n",
    "    \"memory\": \"10GB\",  # Correct spacing\n",
    "    \"shebang\": \"#!/bin/bash\",\n",
    "    #\"account\": \"sanjeevc\",\n",
    "    \"walltime\": \"00:10:00\",\n",
    "    \"job_script_prologue\": [\"source ~/.bashrc\"],\n",
    "    # Only basic directives, add more as needed and test each step\n",
    "    \"job_extra_directives\": [\"-A m669\",\"-q regular\",\"--constraint=cpu\"],\n",
    "        \"asynchronous\": True\n",
    "}\n",
    "cluster = SLURMCluster(**cluster_kwargs)\n",
    "\n",
    "# Modify the network interface to 'hsn0'\n",
    "#cluster.scheduler_options = {\"interface\": \"hsn0\"}\n",
    "\n",
    "print(cluster.job_script())\n",
    "\n",
    "\n",
    "slurm_jobs = 10\n",
    "cluster.scale(jobs=slurm_jobs)\n",
    "client = Client(cluster)\n",
    "client"
   ]
  },
  {
   "cell_type": "code",
   "execution_count": null,
   "metadata": {
    "tags": []
   },
   "outputs": [
    {
     "name": "stdout",
     "output_type": "stream",
     "text": [
      "/global/common/software/nersc/pe/conda-envs/24.1.0/python-3.11/nersc-python/lib/python3.11/site-packages/distributed/cli/dask_scheduler.py:142: FutureWarning: dask-scheduler is deprecated and will be removed in a future release; use `dask scheduler` instead\n",
      "  warnings.warn(\n",
      "2024-09-10 19:01:02,880 - distributed.scheduler - INFO - -----------------------------------------------\n",
      "/global/common/software/nersc/pe/conda-envs/24.1.0/python-3.11/nersc-python/lib/python3.11/site-packages/distributed/node.py:182: UserWarning: Port 8787 is already in use.\n",
      "Perhaps you already have a cluster running?\n",
      "Hosting the HTTP server on port 42325 instead\n",
      "  warnings.warn(\n",
      "2024-09-10 19:01:03,576 - distributed.scheduler - INFO - State start\n",
      "2024-09-10 19:01:03,585 - distributed.scheduler - INFO - -----------------------------------------------\n",
      "2024-09-10 19:01:03,586 - distributed.scheduler - INFO -   Scheduler at:   tcp://128.55.64.38:8786\n",
      "2024-09-10 19:01:03,587 - distributed.scheduler - INFO -   dashboard at:  http://128.55.64.38:42325/status\n",
      "2024-09-10 19:01:03,587 - distributed.scheduler - INFO - Registering Worker plugin shuffle\n"
     ]
    }
   ],
   "source": [
    "!dask-scheduler\n"
   ]
  },
  {
   "cell_type": "code",
   "execution_count": 6,
   "metadata": {},
   "outputs": [],
   "source": [
    "#!prefect config set PREFECT_API_URL=\"https://ard-modeling-service.slac.stanford.edu/api\" "
   ]
  },
  {
   "cell_type": "code",
   "execution_count": 7,
   "metadata": {},
   "outputs": [
    {
     "name": "stderr",
     "output_type": "stream",
     "text": [
      "/global/common/software/nersc/pe/conda-envs/24.1.0/python-3.11/nersc-python/lib/python3.11/site-packages/distributed/node.py:182: UserWarning: Port 8787 is already in use.\n",
      "Perhaps you already have a cluster running?\n",
      "Hosting the HTTP server on port 43569 instead\n",
      "  warnings.warn(\n"
     ]
    }
   ],
   "source": [
    "#!prefect config set PREFECT_API_URL=\"http://localhost:8000/api\"\n"
   ]
  },
  {
   "cell_type": "code",
   "execution_count": 8,
   "metadata": {},
   "outputs": [
    {
     "name": "stdout",
     "output_type": "stream",
     "text": [
      "CPU times: user 1e+03 ns, sys: 1 µs, total: 2 µs\n",
      "Wall time: 5.01 µs\n"
     ]
    }
   ],
   "source": [
    "%time\n"
   ]
  },
  {
   "cell_type": "code",
   "execution_count": null,
   "metadata": {},
   "outputs": [],
   "source": [
    "client"
   ]
  },
  {
   "cell_type": "code",
   "execution_count": 10,
   "metadata": {},
   "outputs": [
    {
     "name": "stdout",
     "output_type": "stream",
     "text": [
      "\n"
     ]
    }
   ],
   "source": [
    "print(client.dashboard_link)"
   ]
  },
  {
   "cell_type": "code",
   "execution_count": 11,
   "metadata": {
    "tags": []
   },
   "outputs": [
    {
     "data": {
      "text/html": [
       "<pre style=\"white-space:pre;overflow-x:auto;line-height:normal;font-family:Menlo,'DejaVu Sans Mono',consolas,'Courier New',monospace\">19:00:09.829 | <span style=\"color: #008080; text-decoration-color: #008080\">INFO</span>    | prefect.engine - Created flow run<span style=\"color: #800080; text-decoration-color: #800080\"> 'smoky-dolphin'</span> for flow<span style=\"color: #800080; text-decoration-color: #800080; font-weight: bold\"> 'dask'</span>\n",
       "</pre>\n"
      ],
      "text/plain": [
       "19:00:09.829 | \u001b[36mINFO\u001b[0m    | prefect.engine - Created flow run\u001b[35m 'smoky-dolphin'\u001b[0m for flow\u001b[1;35m 'dask'\u001b[0m\n"
      ]
     },
     "metadata": {},
     "output_type": "display_data"
    },
    {
     "data": {
      "text/html": [
       "<pre style=\"white-space:pre;overflow-x:auto;line-height:normal;font-family:Menlo,'DejaVu Sans Mono',consolas,'Courier New',monospace\">19:00:09.831 | <span style=\"color: #008080; text-decoration-color: #008080\">INFO</span>    | Flow run<span style=\"color: #800080; text-decoration-color: #800080\"> 'smoky-dolphin'</span> - View at <span style=\"color: #0000ff; text-decoration-color: #0000ff\">https://ard-modeling-service.slac.stanford.edu/flow-runs/flow-run/f269ea03-49b0-4b91-a5d4-1ea2be1c790d</span>\n",
       "</pre>\n"
      ],
      "text/plain": [
       "19:00:09.831 | \u001b[36mINFO\u001b[0m    | Flow run\u001b[35m 'smoky-dolphin'\u001b[0m - View at \u001b[94mhttps://ard-modeling-service.slac.stanford.edu/flow-runs/flow-run/f269ea03-49b0-4b91-a5d4-1ea2be1c790d\u001b[0m\n"
      ]
     },
     "metadata": {},
     "output_type": "display_data"
    },
    {
     "data": {
      "text/html": [
       "<pre style=\"white-space:pre;overflow-x:auto;line-height:normal;font-family:Menlo,'DejaVu Sans Mono',consolas,'Courier New',monospace\">19:00:09.833 | <span style=\"color: #008080; text-decoration-color: #008080\">INFO</span>    | prefect.task_runner.dask - Creating a new Dask cluster with `distributed.deploy.local.LocalCluster`\n",
       "</pre>\n"
      ],
      "text/plain": [
       "19:00:09.833 | \u001b[36mINFO\u001b[0m    | prefect.task_runner.dask - Creating a new Dask cluster with `distributed.deploy.local.LocalCluster`\n"
      ]
     },
     "metadata": {},
     "output_type": "display_data"
    },
    {
     "name": "stderr",
     "output_type": "stream",
     "text": [
      "/global/common/software/nersc/pe/conda-envs/24.1.0/python-3.11/nersc-python/lib/python3.11/site-packages/distributed/node.py:182: UserWarning: Port 8787 is already in use.\n",
      "Perhaps you already have a cluster running?\n",
      "Hosting the HTTP server on port 46009 instead\n",
      "  warnings.warn(\n"
     ]
    },
    {
     "data": {
      "text/html": [
       "<pre style=\"white-space:pre;overflow-x:auto;line-height:normal;font-family:Menlo,'DejaVu Sans Mono',consolas,'Courier New',monospace\">19:00:14.359 | <span style=\"color: #008080; text-decoration-color: #008080\">INFO</span>    | prefect.task_runner.dask - The Dask dashboard is available at <span style=\"color: #0000ff; text-decoration-color: #0000ff\">http://127.0.0.1:46009/status</span>\n",
       "</pre>\n"
      ],
      "text/plain": [
       "19:00:14.359 | \u001b[36mINFO\u001b[0m    | prefect.task_runner.dask - The Dask dashboard is available at \u001b[94mhttp://127.0.0.1:46009/status\u001b[0m\n"
      ]
     },
     "metadata": {},
     "output_type": "display_data"
    },
    {
     "data": {
      "text/html": [
       "<pre style=\"white-space:pre;overflow-x:auto;line-height:normal;font-family:Menlo,'DejaVu Sans Mono',consolas,'Courier New',monospace\">19:00:14.408 | <span style=\"color: #008080; text-decoration-color: #008080\">INFO</span>    | Flow run<span style=\"color: #800080; text-decoration-color: #800080\"> 'smoky-dolphin'</span> - Created task run 'say_hello-0' for task 'say_hello'\n",
       "</pre>\n"
      ],
      "text/plain": [
       "19:00:14.408 | \u001b[36mINFO\u001b[0m    | Flow run\u001b[35m 'smoky-dolphin'\u001b[0m - Created task run 'say_hello-0' for task 'say_hello'\n"
      ]
     },
     "metadata": {},
     "output_type": "display_data"
    },
    {
     "data": {
      "text/html": [
       "<pre style=\"white-space:pre;overflow-x:auto;line-height:normal;font-family:Menlo,'DejaVu Sans Mono',consolas,'Courier New',monospace\">19:00:14.426 | <span style=\"color: #008080; text-decoration-color: #008080\">INFO</span>    | Flow run<span style=\"color: #800080; text-decoration-color: #800080\"> 'smoky-dolphin'</span> - Submitted task run 'say_hello-0' for execution.\n",
       "</pre>\n"
      ],
      "text/plain": [
       "19:00:14.426 | \u001b[36mINFO\u001b[0m    | Flow run\u001b[35m 'smoky-dolphin'\u001b[0m - Submitted task run 'say_hello-0' for execution.\n"
      ]
     },
     "metadata": {},
     "output_type": "display_data"
    },
    {
     "data": {
      "text/html": [
       "<pre style=\"white-space:pre;overflow-x:auto;line-height:normal;font-family:Menlo,'DejaVu Sans Mono',consolas,'Courier New',monospace\">19:00:14.438 | <span style=\"color: #008080; text-decoration-color: #008080\">INFO</span>    | Flow run<span style=\"color: #800080; text-decoration-color: #800080\"> 'smoky-dolphin'</span> - Created task run 'say_goodbye-0' for task 'say_goodbye'\n",
       "</pre>\n"
      ],
      "text/plain": [
       "19:00:14.438 | \u001b[36mINFO\u001b[0m    | Flow run\u001b[35m 'smoky-dolphin'\u001b[0m - Created task run 'say_goodbye-0' for task 'say_goodbye'\n"
      ]
     },
     "metadata": {},
     "output_type": "display_data"
    },
    {
     "data": {
      "text/html": [
       "<pre style=\"white-space:pre;overflow-x:auto;line-height:normal;font-family:Menlo,'DejaVu Sans Mono',consolas,'Courier New',monospace\">19:00:14.443 | <span style=\"color: #008080; text-decoration-color: #008080\">INFO</span>    | Flow run<span style=\"color: #800080; text-decoration-color: #800080\"> 'smoky-dolphin'</span> - Submitted task run 'say_goodbye-0' for execution.\n",
       "</pre>\n"
      ],
      "text/plain": [
       "19:00:14.443 | \u001b[36mINFO\u001b[0m    | Flow run\u001b[35m 'smoky-dolphin'\u001b[0m - Submitted task run 'say_goodbye-0' for execution.\n"
      ]
     },
     "metadata": {},
     "output_type": "display_data"
    },
    {
     "data": {
      "text/html": [
       "<pre style=\"white-space:pre;overflow-x:auto;line-height:normal;font-family:Menlo,'DejaVu Sans Mono',consolas,'Courier New',monospace\">19:00:14.486 | <span style=\"color: #008080; text-decoration-color: #008080\">INFO</span>    | Flow run<span style=\"color: #800080; text-decoration-color: #800080\"> 'smoky-dolphin'</span> - Created task run 'say_goodbye-1' for task 'say_goodbye'\n",
       "</pre>\n"
      ],
      "text/plain": [
       "19:00:14.486 | \u001b[36mINFO\u001b[0m    | Flow run\u001b[35m 'smoky-dolphin'\u001b[0m - Created task run 'say_goodbye-1' for task 'say_goodbye'\n"
      ]
     },
     "metadata": {},
     "output_type": "display_data"
    },
    {
     "data": {
      "text/html": [
       "<pre style=\"white-space:pre;overflow-x:auto;line-height:normal;font-family:Menlo,'DejaVu Sans Mono',consolas,'Courier New',monospace\">19:00:14.490 | <span style=\"color: #008080; text-decoration-color: #008080\">INFO</span>    | Flow run<span style=\"color: #800080; text-decoration-color: #800080\"> 'smoky-dolphin'</span> - Submitted task run 'say_goodbye-1' for execution.\n",
       "</pre>\n"
      ],
      "text/plain": [
       "19:00:14.490 | \u001b[36mINFO\u001b[0m    | Flow run\u001b[35m 'smoky-dolphin'\u001b[0m - Submitted task run 'say_goodbye-1' for execution.\n"
      ]
     },
     "metadata": {},
     "output_type": "display_data"
    },
    {
     "data": {
      "text/html": [
       "<pre style=\"white-space:pre;overflow-x:auto;line-height:normal;font-family:Menlo,'DejaVu Sans Mono',consolas,'Courier New',monospace\">19:00:14.493 | <span style=\"color: #008080; text-decoration-color: #008080\">INFO</span>    | Flow run<span style=\"color: #800080; text-decoration-color: #800080\"> 'smoky-dolphin'</span> - Created task run 'say_goodbye-2' for task 'say_goodbye'\n",
       "</pre>\n"
      ],
      "text/plain": [
       "19:00:14.493 | \u001b[36mINFO\u001b[0m    | Flow run\u001b[35m 'smoky-dolphin'\u001b[0m - Created task run 'say_goodbye-2' for task 'say_goodbye'\n"
      ]
     },
     "metadata": {},
     "output_type": "display_data"
    },
    {
     "data": {
      "text/html": [
       "<pre style=\"white-space:pre;overflow-x:auto;line-height:normal;font-family:Menlo,'DejaVu Sans Mono',consolas,'Courier New',monospace\">19:00:14.497 | <span style=\"color: #008080; text-decoration-color: #008080\">INFO</span>    | Flow run<span style=\"color: #800080; text-decoration-color: #800080\"> 'smoky-dolphin'</span> - Submitted task run 'say_goodbye-2' for execution.\n",
       "</pre>\n"
      ],
      "text/plain": [
       "19:00:14.497 | \u001b[36mINFO\u001b[0m    | Flow run\u001b[35m 'smoky-dolphin'\u001b[0m - Submitted task run 'say_goodbye-2' for execution.\n"
      ]
     },
     "metadata": {},
     "output_type": "display_data"
    },
    {
     "data": {
      "text/html": [
       "<pre style=\"white-space:pre;overflow-x:auto;line-height:normal;font-family:Menlo,'DejaVu Sans Mono',consolas,'Courier New',monospace\">19:00:14.499 | <span style=\"color: #008080; text-decoration-color: #008080\">INFO</span>    | Flow run<span style=\"color: #800080; text-decoration-color: #800080\"> 'smoky-dolphin'</span> - Created task run 'say_hello-1' for task 'say_hello'\n",
       "</pre>\n"
      ],
      "text/plain": [
       "19:00:14.499 | \u001b[36mINFO\u001b[0m    | Flow run\u001b[35m 'smoky-dolphin'\u001b[0m - Created task run 'say_hello-1' for task 'say_hello'\n"
      ]
     },
     "metadata": {},
     "output_type": "display_data"
    },
    {
     "data": {
      "text/html": [
       "<pre style=\"white-space:pre;overflow-x:auto;line-height:normal;font-family:Menlo,'DejaVu Sans Mono',consolas,'Courier New',monospace\">19:00:14.503 | <span style=\"color: #008080; text-decoration-color: #008080\">INFO</span>    | Flow run<span style=\"color: #800080; text-decoration-color: #800080\"> 'smoky-dolphin'</span> - Submitted task run 'say_hello-1' for execution.\n",
       "</pre>\n"
      ],
      "text/plain": [
       "19:00:14.503 | \u001b[36mINFO\u001b[0m    | Flow run\u001b[35m 'smoky-dolphin'\u001b[0m - Submitted task run 'say_hello-1' for execution.\n"
      ]
     },
     "metadata": {},
     "output_type": "display_data"
    },
    {
     "data": {
      "text/html": [
       "<pre style=\"white-space:pre;overflow-x:auto;line-height:normal;font-family:Menlo,'DejaVu Sans Mono',consolas,'Courier New',monospace\">19:00:14.508 | <span style=\"color: #008080; text-decoration-color: #008080\">INFO</span>    | Flow run<span style=\"color: #800080; text-decoration-color: #800080\"> 'smoky-dolphin'</span> - Created task run 'say_goodbye-3' for task 'say_goodbye'\n",
       "</pre>\n"
      ],
      "text/plain": [
       "19:00:14.508 | \u001b[36mINFO\u001b[0m    | Flow run\u001b[35m 'smoky-dolphin'\u001b[0m - Created task run 'say_goodbye-3' for task 'say_goodbye'\n"
      ]
     },
     "metadata": {},
     "output_type": "display_data"
    },
    {
     "data": {
      "text/html": [
       "<pre style=\"white-space:pre;overflow-x:auto;line-height:normal;font-family:Menlo,'DejaVu Sans Mono',consolas,'Courier New',monospace\">19:00:14.512 | <span style=\"color: #008080; text-decoration-color: #008080\">INFO</span>    | Flow run<span style=\"color: #800080; text-decoration-color: #800080\"> 'smoky-dolphin'</span> - Submitted task run 'say_goodbye-3' for execution.\n",
       "</pre>\n"
      ],
      "text/plain": [
       "19:00:14.512 | \u001b[36mINFO\u001b[0m    | Flow run\u001b[35m 'smoky-dolphin'\u001b[0m - Submitted task run 'say_goodbye-3' for execution.\n"
      ]
     },
     "metadata": {},
     "output_type": "display_data"
    },
    {
     "data": {
      "text/html": [
       "<pre style=\"white-space:pre;overflow-x:auto;line-height:normal;font-family:Menlo,'DejaVu Sans Mono',consolas,'Courier New',monospace\">19:00:14.514 | <span style=\"color: #008080; text-decoration-color: #008080\">INFO</span>    | Flow run<span style=\"color: #800080; text-decoration-color: #800080\"> 'smoky-dolphin'</span> - Created task run 'say_hello-2' for task 'say_hello'\n",
       "</pre>\n"
      ],
      "text/plain": [
       "19:00:14.514 | \u001b[36mINFO\u001b[0m    | Flow run\u001b[35m 'smoky-dolphin'\u001b[0m - Created task run 'say_hello-2' for task 'say_hello'\n"
      ]
     },
     "metadata": {},
     "output_type": "display_data"
    },
    {
     "data": {
      "text/html": [
       "<pre style=\"white-space:pre;overflow-x:auto;line-height:normal;font-family:Menlo,'DejaVu Sans Mono',consolas,'Courier New',monospace\">19:00:14.518 | <span style=\"color: #008080; text-decoration-color: #008080\">INFO</span>    | Flow run<span style=\"color: #800080; text-decoration-color: #800080\"> 'smoky-dolphin'</span> - Submitted task run 'say_hello-2' for execution.\n",
       "</pre>\n"
      ],
      "text/plain": [
       "19:00:14.518 | \u001b[36mINFO\u001b[0m    | Flow run\u001b[35m 'smoky-dolphin'\u001b[0m - Submitted task run 'say_hello-2' for execution.\n"
      ]
     },
     "metadata": {},
     "output_type": "display_data"
    },
    {
     "data": {
      "text/html": [
       "<pre style=\"white-space:pre;overflow-x:auto;line-height:normal;font-family:Menlo,'DejaVu Sans Mono',consolas,'Courier New',monospace\">19:00:14.524 | <span style=\"color: #008080; text-decoration-color: #008080\">INFO</span>    | Flow run<span style=\"color: #800080; text-decoration-color: #800080\"> 'smoky-dolphin'</span> - Created task run 'say_hello-3' for task 'say_hello'\n",
       "</pre>\n"
      ],
      "text/plain": [
       "19:00:14.524 | \u001b[36mINFO\u001b[0m    | Flow run\u001b[35m 'smoky-dolphin'\u001b[0m - Created task run 'say_hello-3' for task 'say_hello'\n"
      ]
     },
     "metadata": {},
     "output_type": "display_data"
    },
    {
     "data": {
      "text/html": [
       "<pre style=\"white-space:pre;overflow-x:auto;line-height:normal;font-family:Menlo,'DejaVu Sans Mono',consolas,'Courier New',monospace\">19:00:14.528 | <span style=\"color: #008080; text-decoration-color: #008080\">INFO</span>    | Flow run<span style=\"color: #800080; text-decoration-color: #800080\"> 'smoky-dolphin'</span> - Submitted task run 'say_hello-3' for execution.\n",
       "</pre>\n"
      ],
      "text/plain": [
       "19:00:14.528 | \u001b[36mINFO\u001b[0m    | Flow run\u001b[35m 'smoky-dolphin'\u001b[0m - Submitted task run 'say_hello-3' for execution.\n"
      ]
     },
     "metadata": {},
     "output_type": "display_data"
    },
    {
     "name": "stderr",
     "output_type": "stream",
     "text": [
      "19:00:16.954 | \u001b[36mINFO\u001b[0m    | Task run 'say_goodbye-0' - goodbye arthur\n",
      "19:00:16.982 | \u001b[36mINFO\u001b[0m    | Task run 'say_goodbye-0' - Finished in state \u001b[32mCompleted\u001b[0m()\n",
      "19:00:17.105 | \u001b[36mINFO\u001b[0m    | Task run 'say_goodbye-1' - goodbye trillian\n",
      "19:00:17.121 | \u001b[36mINFO\u001b[0m    | Task run 'say_hello-0' - hello arthur\n",
      "19:00:17.122 | \u001b[36mINFO\u001b[0m    | Task run 'say_goodbye-3' - goodbye marvin\n",
      "19:00:17.158 | \u001b[36mINFO\u001b[0m    | Task run 'say_hello-3' - hello marvin\n",
      "19:00:17.171 | \u001b[36mINFO\u001b[0m    | Task run 'say_goodbye-1' - Finished in state \u001b[32mCompleted\u001b[0m()\n",
      "19:00:17.179 | \u001b[36mINFO\u001b[0m    | Task run 'say_hello-1' - hello trillian\n",
      "19:00:17.183 | \u001b[36mINFO\u001b[0m    | Task run 'say_hello-0' - Finished in state \u001b[32mCompleted\u001b[0m()\n",
      "19:00:17.183 | \u001b[36mINFO\u001b[0m    | Task run 'say_hello-2' - hello ford\n",
      "19:00:17.214 | \u001b[36mINFO\u001b[0m    | Task run 'say_hello-3' - Finished in state \u001b[32mCompleted\u001b[0m()\n",
      "19:00:17.241 | \u001b[36mINFO\u001b[0m    | Task run 'say_hello-2' - Finished in state \u001b[32mCompleted\u001b[0m()\n",
      "19:00:17.250 | \u001b[36mINFO\u001b[0m    | Task run 'say_hello-1' - Finished in state \u001b[32mCompleted\u001b[0m()\n",
      "19:00:17.252 | \u001b[36mINFO\u001b[0m    | Task run 'say_goodbye-3' - Finished in state \u001b[32mCompleted\u001b[0m()\n",
      "19:00:17.248 | \u001b[36mINFO\u001b[0m    | Task run 'say_goodbye-2' - goodbye ford\n",
      "19:00:17.281 | \u001b[36mINFO\u001b[0m    | Task run 'say_goodbye-2' - Finished in state \u001b[32mCompleted\u001b[0m()\n"
     ]
    },
    {
     "data": {
      "text/html": [
       "<pre style=\"white-space:pre;overflow-x:auto;line-height:normal;font-family:Menlo,'DejaVu Sans Mono',consolas,'Courier New',monospace\">19:00:18.578 | <span style=\"color: #008080; text-decoration-color: #008080\">INFO</span>    | Flow run<span style=\"color: #800080; text-decoration-color: #800080\"> 'smoky-dolphin'</span> - Finished in state <span style=\"color: #008000; text-decoration-color: #008000\">Completed</span>('All states completed.')\n",
       "</pre>\n"
      ],
      "text/plain": [
       "19:00:18.578 | \u001b[36mINFO\u001b[0m    | Flow run\u001b[35m 'smoky-dolphin'\u001b[0m - Finished in state \u001b[32mCompleted\u001b[0m('All states completed.')\n"
      ]
     },
     "metadata": {},
     "output_type": "display_data"
    }
   ],
   "source": [
    "from prefect import flow, get_run_logger, task\n",
    "from prefect_dask.task_runners import DaskTaskRunner\n",
    "\n",
    "\n",
    "@task\n",
    "def say_hello(name: str) -> None:\n",
    "    # logs not currently working see https://github.com/PrefectHQ/prefect/issues/5850\n",
    "    logger = get_run_logger()\n",
    "    logger.info(f\"hello {name}\")\n",
    "\n",
    "\n",
    "@task\n",
    "def say_goodbye(name: str) -> None:\n",
    "    logger = get_run_logger()\n",
    "    logger.info(f\"goodbye {name}\")\n",
    "\n",
    "\n",
    "# TODO: can the task runner be parameterised so we don't duplicate the flow with dask_kubes_flow?\n",
    "# see https://github.com/PrefectHQ/prefect/issues/5560\n",
    "\n",
    "\n",
    "# creates a LocalCluster https://docs.dask.org/en/stable/deploying-python.html#localcluster\n",
    "@flow(task_runner=DaskTaskRunner(cluster=cluster))\n",
    "def dask(names: list[str]) -> None:\n",
    "    for name in names:\n",
    "        # tasks must be submitted to run on dask\n",
    "        # if called without .submit() they are still tracked but\n",
    "        # run immediately and locally rather than async on dask\n",
    "        say_hello.submit(name)\n",
    "        say_goodbye.submit(name)\n",
    "\n",
    "\n",
    "if __name__ == \"__main__\":\n",
    "    dask([\"arthur\", \"trillian\", \"ford\", \"marvin\"])"
   ]
  },
  {
   "cell_type": "code",
   "execution_count": null,
   "metadata": {},
   "outputs": [],
   "source": []
  },
  {
   "cell_type": "code",
   "execution_count": null,
   "metadata": {},
   "outputs": [],
   "source": []
  },
  {
   "cell_type": "code",
   "execution_count": null,
   "metadata": {},
   "outputs": [],
   "source": []
  },
  {
   "cell_type": "code",
   "execution_count": null,
   "metadata": {},
   "outputs": [],
   "source": []
  },
  {
   "cell_type": "code",
   "execution_count": null,
   "metadata": {},
   "outputs": [],
   "source": []
  },
  {
   "cell_type": "code",
   "execution_count": 12,
   "metadata": {},
   "outputs": [
    {
     "data": {
      "text/plain": [
       "<coroutine object Client._shutdown at 0x7f64ae2925c0>"
      ]
     },
     "execution_count": 12,
     "metadata": {},
     "output_type": "execute_result"
    }
   ],
   "source": [
    "client.shutdown()\n"
   ]
  },
  {
   "cell_type": "markdown",
   "metadata": {},
   "source": [
    "# Temporary Dask Cluster\n",
    "Some users may prefer to spin up a Dask cluster (i.e. Slurm job) for each indiviual @flow. This is also possible in Prefect. (Note that the example below will complain about an open port if you have already instantiated a Dask cluster above.)\n",
    "\n"
   ]
  },
  {
   "cell_type": "markdown",
   "metadata": {},
   "source": [
    "from prefect import flow, task\n",
    "from prefect_dask import DaskTaskRunner\n",
    "\n",
    "@flow(task_runner=DaskTaskRunner(cluster_class=SLURMCluster, cluster_kwargs=cluster_kwargs))\n",
    "def workflow(a: float, b: float) -> float:\n",
    "    output1 = add.submit(a, b)\n",
    "    output2 = mult.submit(output1, b)\n",
    "    return output2\n",
    "\n",
    "@task\n",
    "def add(a: float, b: float) -> float:\n",
    "    return a + b\n",
    "\n",
    "@task\n",
    "def mult(a: float, b: float) -> float:\n",
    "    return a * b\n",
    "\n",
    "workflow(1, 2).result()"
   ]
  },
  {
   "cell_type": "code",
   "execution_count": 13,
   "metadata": {},
   "outputs": [
    {
     "name": "stdout",
     "output_type": "stream",
     "text": [
      "Client successfully shut down.\n"
     ]
    },
    {
     "name": "stderr",
     "output_type": "stream",
     "text": [
      "/tmp/ipykernel_2043352/4030458115.py:7: RuntimeWarning: coroutine 'Client._shutdown' was never awaited\n",
      "  client.sync(client.shutdown)  # Synchronously wait for the shutdown\n"
     ]
    }
   ],
   "source": [
    "from dask.distributed import Client, default_client\n",
    "\n",
    "# Function to safely shutdown the client\n",
    "def shutdown_all_clients():\n",
    "    try:\n",
    "        client = default_client()  # Get the current active client\n",
    "        client.sync(client.shutdown)  # Synchronously wait for the shutdown\n",
    "        print(\"Client successfully shut down.\")\n",
    "    except ValueError:\n",
    "        print(\"No active client found.\")\n",
    "\n",
    "shutdown_all_clients()\n"
   ]
  },
  {
   "cell_type": "code",
   "execution_count": 14,
   "metadata": {
    "tags": []
   },
   "outputs": [
    {
     "name": "stderr",
     "output_type": "stream",
     "text": [
      "\n",
      "KeyboardInterrupt\n",
      "\n"
     ]
    }
   ],
   "source": [
    "from dask.distributed import Client\n",
    "\n",
    "# Connect to the cluster running on port 8787\n",
    "client = Client(\"tcp://localhost:8787\")\n",
    "\n",
    "# Shutdown the cluster\n",
    "client.shutdown()\n",
    "\n",
    "print(\"Cluster on port 8787 successfully shut down.\")\n"
   ]
  },
  {
   "cell_type": "code",
   "execution_count": null,
   "metadata": {},
   "outputs": [],
   "source": []
  }
 ],
 "metadata": {
  "kernelspec": {
   "display_name": "NERSC Python",
   "language": "python",
   "name": "python3"
  },
  "language_info": {
   "codemirror_mode": {
    "name": "ipython",
    "version": 3
   },
   "file_extension": ".py",
   "mimetype": "text/x-python",
   "name": "python",
   "nbconvert_exporter": "python",
   "pygments_lexer": "ipython3",
   "version": "3.11.7"
  }
 },
 "nbformat": 4,
 "nbformat_minor": 4
}
