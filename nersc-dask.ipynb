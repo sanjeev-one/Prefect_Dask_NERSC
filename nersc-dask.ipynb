{
 "cells": [
  {
   "cell_type": "code",
   "execution_count": 1,
   "metadata": {},
   "outputs": [],
   "source": [
    "#!pip install prefect[dask] dask-jobqueue\n"
   ]
  },
  {
   "cell_type": "code",
   "execution_count": 2,
   "metadata": {},
   "outputs": [],
   "source": [
    "#!prefect config set PREFECT_API_URL=\"https://ard-modeling-service.slac.stanford.edu/api\" \n"
   ]
  },
  {
   "cell_type": "code",
   "execution_count": 8,
   "metadata": {
    "tags": []
   },
   "outputs": [
    {
     "name": "stdout",
     "output_type": "stream",
     "text": [
      "Defaulting to user installation because normal site-packages is not writeable\n",
      "Collecting jupyter-server-proxy\n",
      "  Downloading jupyter_server_proxy-4.4.0-py3-none-any.whl.metadata (8.7 kB)\n",
      "Collecting aiohttp (from jupyter-server-proxy)\n",
      "  Downloading aiohttp-3.10.5-cp311-cp311-manylinux_2_17_x86_64.manylinux2014_x86_64.whl.metadata (7.5 kB)\n",
      "Requirement already satisfied: jupyter-server>=1.24.0 in /global/common/software/nersc/pe/conda-envs/24.1.0/python-3.11/nersc-python/lib/python3.11/site-packages (from jupyter-server-proxy) (2.12.3)\n",
      "Collecting simpervisor>=1.0.0 (from jupyter-server-proxy)\n",
      "  Downloading simpervisor-1.0.0-py3-none-any.whl.metadata (4.3 kB)\n",
      "Requirement already satisfied: tornado>=6.1.0 in /global/common/software/nersc/pe/conda-envs/24.1.0/python-3.11/nersc-python/lib/python3.11/site-packages (from jupyter-server-proxy) (6.3.3)\n",
      "Requirement already satisfied: traitlets>=5.1.0 in /global/common/software/nersc/pe/conda-envs/24.1.0/python-3.11/nersc-python/lib/python3.11/site-packages (from jupyter-server-proxy) (5.14.1)\n",
      "Requirement already satisfied: anyio>=3.1.0 in /global/homes/s/sanjeevc/.local/perlmutter/python-3.11/lib/python3.11/site-packages (from jupyter-server>=1.24.0->jupyter-server-proxy) (3.7.1)\n",
      "Requirement already satisfied: argon2-cffi in /global/common/software/nersc/pe/conda-envs/24.1.0/python-3.11/nersc-python/lib/python3.11/site-packages (from jupyter-server>=1.24.0->jupyter-server-proxy) (23.1.0)\n",
      "Requirement already satisfied: jinja2 in /global/common/software/nersc/pe/conda-envs/24.1.0/python-3.11/nersc-python/lib/python3.11/site-packages (from jupyter-server>=1.24.0->jupyter-server-proxy) (3.1.2)\n",
      "Requirement already satisfied: jupyter-client>=7.4.4 in /global/common/software/nersc/pe/conda-envs/24.1.0/python-3.11/nersc-python/lib/python3.11/site-packages (from jupyter-server>=1.24.0->jupyter-server-proxy) (8.6.0)\n",
      "Requirement already satisfied: jupyter-core!=5.0.*,>=4.12 in /global/common/software/nersc/pe/conda-envs/24.1.0/python-3.11/nersc-python/lib/python3.11/site-packages (from jupyter-server>=1.24.0->jupyter-server-proxy) (5.7.1)\n",
      "Requirement already satisfied: jupyter-events>=0.9.0 in /global/common/software/nersc/pe/conda-envs/24.1.0/python-3.11/nersc-python/lib/python3.11/site-packages (from jupyter-server>=1.24.0->jupyter-server-proxy) (0.9.0)\n",
      "Requirement already satisfied: jupyter-server-terminals in /global/common/software/nersc/pe/conda-envs/24.1.0/python-3.11/nersc-python/lib/python3.11/site-packages (from jupyter-server>=1.24.0->jupyter-server-proxy) (0.5.1)\n",
      "Requirement already satisfied: nbconvert>=6.4.4 in /global/common/software/nersc/pe/conda-envs/24.1.0/python-3.11/nersc-python/lib/python3.11/site-packages (from jupyter-server>=1.24.0->jupyter-server-proxy) (7.14.0)\n",
      "Requirement already satisfied: nbformat>=5.3.0 in /global/common/software/nersc/pe/conda-envs/24.1.0/python-3.11/nersc-python/lib/python3.11/site-packages (from jupyter-server>=1.24.0->jupyter-server-proxy) (5.9.2)\n",
      "Requirement already satisfied: overrides in /global/common/software/nersc/pe/conda-envs/24.1.0/python-3.11/nersc-python/lib/python3.11/site-packages (from jupyter-server>=1.24.0->jupyter-server-proxy) (7.4.0)\n",
      "Requirement already satisfied: packaging in /global/common/software/nersc/pe/conda-envs/24.1.0/python-3.11/nersc-python/lib/python3.11/site-packages (from jupyter-server>=1.24.0->jupyter-server-proxy) (23.2)\n",
      "Requirement already satisfied: prometheus-client in /global/common/software/nersc/pe/conda-envs/24.1.0/python-3.11/nersc-python/lib/python3.11/site-packages (from jupyter-server>=1.24.0->jupyter-server-proxy) (0.19.0)\n",
      "Requirement already satisfied: pyzmq>=24 in /global/common/software/nersc/pe/conda-envs/24.1.0/python-3.11/nersc-python/lib/python3.11/site-packages (from jupyter-server>=1.24.0->jupyter-server-proxy) (25.1.2)\n",
      "Requirement already satisfied: send2trash>=1.8.2 in /global/common/software/nersc/pe/conda-envs/24.1.0/python-3.11/nersc-python/lib/python3.11/site-packages (from jupyter-server>=1.24.0->jupyter-server-proxy) (1.8.2)\n",
      "Requirement already satisfied: terminado>=0.8.3 in /global/common/software/nersc/pe/conda-envs/24.1.0/python-3.11/nersc-python/lib/python3.11/site-packages (from jupyter-server>=1.24.0->jupyter-server-proxy) (0.18.0)\n",
      "Requirement already satisfied: websocket-client in /global/common/software/nersc/pe/conda-envs/24.1.0/python-3.11/nersc-python/lib/python3.11/site-packages (from jupyter-server>=1.24.0->jupyter-server-proxy) (1.7.0)\n",
      "Collecting aiohappyeyeballs>=2.3.0 (from aiohttp->jupyter-server-proxy)\n",
      "  Downloading aiohappyeyeballs-2.4.0-py3-none-any.whl.metadata (5.9 kB)\n",
      "Collecting aiosignal>=1.1.2 (from aiohttp->jupyter-server-proxy)\n",
      "  Downloading aiosignal-1.3.1-py3-none-any.whl.metadata (4.0 kB)\n",
      "Requirement already satisfied: attrs>=17.3.0 in /global/common/software/nersc/pe/conda-envs/24.1.0/python-3.11/nersc-python/lib/python3.11/site-packages (from aiohttp->jupyter-server-proxy) (23.2.0)\n",
      "Collecting frozenlist>=1.1.1 (from aiohttp->jupyter-server-proxy)\n",
      "  Downloading frozenlist-1.4.1-cp311-cp311-manylinux_2_5_x86_64.manylinux1_x86_64.manylinux_2_17_x86_64.manylinux2014_x86_64.whl.metadata (12 kB)\n",
      "Collecting multidict<7.0,>=4.5 (from aiohttp->jupyter-server-proxy)\n",
      "  Downloading multidict-6.1.0-cp311-cp311-manylinux_2_17_x86_64.manylinux2014_x86_64.whl.metadata (5.0 kB)\n",
      "Collecting yarl<2.0,>=1.0 (from aiohttp->jupyter-server-proxy)\n",
      "  Downloading yarl-1.11.1-cp311-cp311-manylinux_2_17_x86_64.manylinux2014_x86_64.whl.metadata (48 kB)\n",
      "\u001b[2K     \u001b[90m━━━━━━━━━━━━━━━━━━━━━━━━━━━━━━━━━━━━━━━━\u001b[0m \u001b[32m48.2/48.2 kB\u001b[0m \u001b[31m2.1 MB/s\u001b[0m eta \u001b[36m0:00:00\u001b[0m\n",
      "\u001b[?25hRequirement already satisfied: idna>=2.8 in /global/common/software/nersc/pe/conda-envs/24.1.0/python-3.11/nersc-python/lib/python3.11/site-packages (from anyio>=3.1.0->jupyter-server>=1.24.0->jupyter-server-proxy) (3.6)\n",
      "Requirement already satisfied: sniffio>=1.1 in /global/common/software/nersc/pe/conda-envs/24.1.0/python-3.11/nersc-python/lib/python3.11/site-packages (from anyio>=3.1.0->jupyter-server>=1.24.0->jupyter-server-proxy) (1.3.0)\n",
      "Requirement already satisfied: python-dateutil>=2.8.2 in /global/common/software/nersc/pe/conda-envs/24.1.0/python-3.11/nersc-python/lib/python3.11/site-packages (from jupyter-client>=7.4.4->jupyter-server>=1.24.0->jupyter-server-proxy) (2.8.2)\n",
      "Requirement already satisfied: platformdirs>=2.5 in /global/common/software/nersc/pe/conda-envs/24.1.0/python-3.11/nersc-python/lib/python3.11/site-packages (from jupyter-core!=5.0.*,>=4.12->jupyter-server>=1.24.0->jupyter-server-proxy) (4.1.0)\n",
      "Requirement already satisfied: jsonschema>=4.18.0 in /global/common/software/nersc/pe/conda-envs/24.1.0/python-3.11/nersc-python/lib/python3.11/site-packages (from jsonschema[format-nongpl]>=4.18.0->jupyter-events>=0.9.0->jupyter-server>=1.24.0->jupyter-server-proxy) (4.20.0)\n",
      "Requirement already satisfied: python-json-logger>=2.0.4 in /global/common/software/nersc/pe/conda-envs/24.1.0/python-3.11/nersc-python/lib/python3.11/site-packages (from jupyter-events>=0.9.0->jupyter-server>=1.24.0->jupyter-server-proxy) (2.0.7)\n",
      "Requirement already satisfied: pyyaml>=5.3 in /global/common/software/nersc/pe/conda-envs/24.1.0/python-3.11/nersc-python/lib/python3.11/site-packages (from jupyter-events>=0.9.0->jupyter-server>=1.24.0->jupyter-server-proxy) (6.0.1)\n",
      "Requirement already satisfied: referencing in /global/common/software/nersc/pe/conda-envs/24.1.0/python-3.11/nersc-python/lib/python3.11/site-packages (from jupyter-events>=0.9.0->jupyter-server>=1.24.0->jupyter-server-proxy) (0.32.1)\n",
      "Requirement already satisfied: rfc3339-validator in /global/common/software/nersc/pe/conda-envs/24.1.0/python-3.11/nersc-python/lib/python3.11/site-packages (from jupyter-events>=0.9.0->jupyter-server>=1.24.0->jupyter-server-proxy) (0.1.4)\n",
      "Requirement already satisfied: rfc3986-validator>=0.1.1 in /global/common/software/nersc/pe/conda-envs/24.1.0/python-3.11/nersc-python/lib/python3.11/site-packages (from jupyter-events>=0.9.0->jupyter-server>=1.24.0->jupyter-server-proxy) (0.1.1)\n",
      "Requirement already satisfied: beautifulsoup4 in /global/common/software/nersc/pe/conda-envs/24.1.0/python-3.11/nersc-python/lib/python3.11/site-packages (from nbconvert>=6.4.4->jupyter-server>=1.24.0->jupyter-server-proxy) (4.12.2)\n",
      "Requirement already satisfied: bleach!=5.0.0 in /global/common/software/nersc/pe/conda-envs/24.1.0/python-3.11/nersc-python/lib/python3.11/site-packages (from nbconvert>=6.4.4->jupyter-server>=1.24.0->jupyter-server-proxy) (6.1.0)\n",
      "Requirement already satisfied: defusedxml in /global/common/software/nersc/pe/conda-envs/24.1.0/python-3.11/nersc-python/lib/python3.11/site-packages (from nbconvert>=6.4.4->jupyter-server>=1.24.0->jupyter-server-proxy) (0.7.1)\n",
      "Requirement already satisfied: jupyterlab-pygments in /global/common/software/nersc/pe/conda-envs/24.1.0/python-3.11/nersc-python/lib/python3.11/site-packages (from nbconvert>=6.4.4->jupyter-server>=1.24.0->jupyter-server-proxy) (0.3.0)\n",
      "Requirement already satisfied: markupsafe>=2.0 in /global/common/software/nersc/pe/conda-envs/24.1.0/python-3.11/nersc-python/lib/python3.11/site-packages (from nbconvert>=6.4.4->jupyter-server>=1.24.0->jupyter-server-proxy) (2.1.3)\n",
      "Requirement already satisfied: mistune<4,>=2.0.3 in /global/common/software/nersc/pe/conda-envs/24.1.0/python-3.11/nersc-python/lib/python3.11/site-packages (from nbconvert>=6.4.4->jupyter-server>=1.24.0->jupyter-server-proxy) (3.0.2)\n",
      "Requirement already satisfied: nbclient>=0.5.0 in /global/common/software/nersc/pe/conda-envs/24.1.0/python-3.11/nersc-python/lib/python3.11/site-packages (from nbconvert>=6.4.4->jupyter-server>=1.24.0->jupyter-server-proxy) (0.8.0)\n",
      "Requirement already satisfied: pandocfilters>=1.4.1 in /global/common/software/nersc/pe/conda-envs/24.1.0/python-3.11/nersc-python/lib/python3.11/site-packages (from nbconvert>=6.4.4->jupyter-server>=1.24.0->jupyter-server-proxy) (1.5.0)\n",
      "Requirement already satisfied: pygments>=2.4.1 in /global/common/software/nersc/pe/conda-envs/24.1.0/python-3.11/nersc-python/lib/python3.11/site-packages (from nbconvert>=6.4.4->jupyter-server>=1.24.0->jupyter-server-proxy) (2.17.2)\n",
      "Requirement already satisfied: tinycss2 in /global/common/software/nersc/pe/conda-envs/24.1.0/python-3.11/nersc-python/lib/python3.11/site-packages (from nbconvert>=6.4.4->jupyter-server>=1.24.0->jupyter-server-proxy) (1.2.1)\n",
      "Requirement already satisfied: fastjsonschema in /global/common/software/nersc/pe/conda-envs/24.1.0/python-3.11/nersc-python/lib/python3.11/site-packages (from nbformat>=5.3.0->jupyter-server>=1.24.0->jupyter-server-proxy) (2.19.1)\n",
      "Requirement already satisfied: ptyprocess in /global/common/software/nersc/pe/conda-envs/24.1.0/python-3.11/nersc-python/lib/python3.11/site-packages (from terminado>=0.8.3->jupyter-server>=1.24.0->jupyter-server-proxy) (0.7.0)\n",
      "Requirement already satisfied: argon2-cffi-bindings in /global/common/software/nersc/pe/conda-envs/24.1.0/python-3.11/nersc-python/lib/python3.11/site-packages (from argon2-cffi->jupyter-server>=1.24.0->jupyter-server-proxy) (21.2.0)\n",
      "Requirement already satisfied: six>=1.9.0 in /global/common/software/nersc/pe/conda-envs/24.1.0/python-3.11/nersc-python/lib/python3.11/site-packages (from bleach!=5.0.0->nbconvert>=6.4.4->jupyter-server>=1.24.0->jupyter-server-proxy) (1.16.0)\n",
      "Requirement already satisfied: webencodings in /global/common/software/nersc/pe/conda-envs/24.1.0/python-3.11/nersc-python/lib/python3.11/site-packages (from bleach!=5.0.0->nbconvert>=6.4.4->jupyter-server>=1.24.0->jupyter-server-proxy) (0.5.1)\n",
      "Requirement already satisfied: jsonschema-specifications>=2023.03.6 in /global/common/software/nersc/pe/conda-envs/24.1.0/python-3.11/nersc-python/lib/python3.11/site-packages (from jsonschema>=4.18.0->jsonschema[format-nongpl]>=4.18.0->jupyter-events>=0.9.0->jupyter-server>=1.24.0->jupyter-server-proxy) (2023.12.1)\n",
      "Requirement already satisfied: rpds-py>=0.7.1 in /global/common/software/nersc/pe/conda-envs/24.1.0/python-3.11/nersc-python/lib/python3.11/site-packages (from jsonschema>=4.18.0->jsonschema[format-nongpl]>=4.18.0->jupyter-events>=0.9.0->jupyter-server>=1.24.0->jupyter-server-proxy) (0.16.2)\n",
      "Requirement already satisfied: fqdn in /global/common/software/nersc/pe/conda-envs/24.1.0/python-3.11/nersc-python/lib/python3.11/site-packages (from jsonschema[format-nongpl]>=4.18.0->jupyter-events>=0.9.0->jupyter-server>=1.24.0->jupyter-server-proxy) (1.5.1)\n",
      "Requirement already satisfied: isoduration in /global/common/software/nersc/pe/conda-envs/24.1.0/python-3.11/nersc-python/lib/python3.11/site-packages (from jsonschema[format-nongpl]>=4.18.0->jupyter-events>=0.9.0->jupyter-server>=1.24.0->jupyter-server-proxy) (20.11.0)\n",
      "Requirement already satisfied: jsonpointer>1.13 in /global/common/software/nersc/pe/conda-envs/24.1.0/python-3.11/nersc-python/lib/python3.11/site-packages (from jsonschema[format-nongpl]>=4.18.0->jupyter-events>=0.9.0->jupyter-server>=1.24.0->jupyter-server-proxy) (2.4)\n",
      "Requirement already satisfied: uri-template in /global/common/software/nersc/pe/conda-envs/24.1.0/python-3.11/nersc-python/lib/python3.11/site-packages (from jsonschema[format-nongpl]>=4.18.0->jupyter-events>=0.9.0->jupyter-server>=1.24.0->jupyter-server-proxy) (1.3.0)\n",
      "Requirement already satisfied: webcolors>=1.11 in /global/common/software/nersc/pe/conda-envs/24.1.0/python-3.11/nersc-python/lib/python3.11/site-packages (from jsonschema[format-nongpl]>=4.18.0->jupyter-events>=0.9.0->jupyter-server>=1.24.0->jupyter-server-proxy) (1.13)\n",
      "Requirement already satisfied: cffi>=1.0.1 in /global/common/software/nersc/pe/conda-envs/24.1.0/python-3.11/nersc-python/lib/python3.11/site-packages (from argon2-cffi-bindings->argon2-cffi->jupyter-server>=1.24.0->jupyter-server-proxy) (1.16.0)\n",
      "Requirement already satisfied: soupsieve>1.2 in /global/common/software/nersc/pe/conda-envs/24.1.0/python-3.11/nersc-python/lib/python3.11/site-packages (from beautifulsoup4->nbconvert>=6.4.4->jupyter-server>=1.24.0->jupyter-server-proxy) (2.5)\n",
      "Requirement already satisfied: pycparser in /global/common/software/nersc/pe/conda-envs/24.1.0/python-3.11/nersc-python/lib/python3.11/site-packages (from cffi>=1.0.1->argon2-cffi-bindings->argon2-cffi->jupyter-server>=1.24.0->jupyter-server-proxy) (2.21)\n",
      "Requirement already satisfied: arrow>=0.15.0 in /global/common/software/nersc/pe/conda-envs/24.1.0/python-3.11/nersc-python/lib/python3.11/site-packages (from isoduration->jsonschema[format-nongpl]>=4.18.0->jupyter-events>=0.9.0->jupyter-server>=1.24.0->jupyter-server-proxy) (1.3.0)\n",
      "Requirement already satisfied: types-python-dateutil>=2.8.10 in /global/common/software/nersc/pe/conda-envs/24.1.0/python-3.11/nersc-python/lib/python3.11/site-packages (from arrow>=0.15.0->isoduration->jsonschema[format-nongpl]>=4.18.0->jupyter-events>=0.9.0->jupyter-server>=1.24.0->jupyter-server-proxy) (2.8.19.20240106)\n",
      "Downloading jupyter_server_proxy-4.4.0-py3-none-any.whl (37 kB)\n",
      "Downloading simpervisor-1.0.0-py3-none-any.whl (8.3 kB)\n",
      "Downloading aiohttp-3.10.5-cp311-cp311-manylinux_2_17_x86_64.manylinux2014_x86_64.whl (1.3 MB)\n",
      "\u001b[2K   \u001b[90m━━━━━━━━━━━━━━━━━━━━━━━━━━━━━━━━━━━━━━━━\u001b[0m \u001b[32m1.3/1.3 MB\u001b[0m \u001b[31m20.3 MB/s\u001b[0m eta \u001b[36m0:00:00\u001b[0m \u001b[36m0:00:01\u001b[0m\n",
      "\u001b[?25hDownloading aiohappyeyeballs-2.4.0-py3-none-any.whl (12 kB)\n",
      "Downloading aiosignal-1.3.1-py3-none-any.whl (7.6 kB)\n",
      "Downloading frozenlist-1.4.1-cp311-cp311-manylinux_2_5_x86_64.manylinux1_x86_64.manylinux_2_17_x86_64.manylinux2014_x86_64.whl (272 kB)\n",
      "\u001b[2K   \u001b[90m━━━━━━━━━━━━━━━━━━━━━━━━━━━━━━━━━━━━━━━━\u001b[0m \u001b[32m272.3/272.3 kB\u001b[0m \u001b[31m49.0 MB/s\u001b[0m eta \u001b[36m0:00:00\u001b[0m\n",
      "\u001b[?25hDownloading multidict-6.1.0-cp311-cp311-manylinux_2_17_x86_64.manylinux2014_x86_64.whl (129 kB)\n",
      "\u001b[2K   \u001b[90m━━━━━━━━━━━━━━━━━━━━━━━━━━━━━━━━━━━━━━━━\u001b[0m \u001b[32m129.0/129.0 kB\u001b[0m \u001b[31m28.7 MB/s\u001b[0m eta \u001b[36m0:00:00\u001b[0m\n",
      "\u001b[?25hDownloading yarl-1.11.1-cp311-cp311-manylinux_2_17_x86_64.manylinux2014_x86_64.whl (487 kB)\n",
      "\u001b[2K   \u001b[90m━━━━━━━━━━━━━━━━━━━━━━━━━━━━━━━━━━━━━━━━\u001b[0m \u001b[32m487.8/487.8 kB\u001b[0m \u001b[31m60.4 MB/s\u001b[0m eta \u001b[36m0:00:00\u001b[0m\n",
      "\u001b[?25hInstalling collected packages: simpervisor, multidict, frozenlist, aiohappyeyeballs, yarl, aiosignal, aiohttp, jupyter-server-proxy\n",
      "Successfully installed aiohappyeyeballs-2.4.0 aiohttp-3.10.5 aiosignal-1.3.1 frozenlist-1.4.1 jupyter-server-proxy-4.4.0 multidict-6.1.0 simpervisor-1.0.0 yarl-1.11.1\n"
     ]
    },
    {
     "name": "stderr",
     "output_type": "stream",
     "text": [
      "2024-09-10 18:10:42,921 - distributed.core - INFO - Event loop was unresponsive in Scheduler for 6.18s.  This is often caused by long-running GIL-holding functions or moving large chunks of data. This can cause timeouts and instability.\n"
     ]
    }
   ],
   "source": [
    "!python -m pip install jupyter-server-proxy"
   ]
  },
  {
   "cell_type": "code",
   "execution_count": 6,
   "metadata": {
    "tags": []
   },
   "outputs": [
    {
     "name": "stdout",
     "output_type": "stream",
     "text": [
      "#!/bin/bash\n",
      "\n",
      "#SBATCH -J dask-worker\n",
      "#SBATCH -n 1\n",
      "#SBATCH --cpus-per-task=1\n",
      "#SBATCH --mem=10G\n",
      "#SBATCH -t 00:10:00\n",
      "#SBATCH -A m669\n",
      "#SBATCH -q regular\n",
      "#SBATCH --constraint=cpu\n",
      "source ~/.bashrc\n",
      "/global/common/software/nersc/pe/conda-envs/24.1.0/python-3.11/nersc-python/bin/python -m distributed.cli.dask_worker tcp://<insert-scheduler-address-here>:8786 --name dummy-name --nthreads 1 --memory-limit 9.31GiB --nanny --death-timeout 60\n",
      "\n"
     ]
    }
   ],
   "source": [
    "\n",
    "from dask.distributed import Client\n",
    "from dask_jobqueue import SLURMCluster\n",
    "\n",
    "# Simplify SLURMCluster parameters to basic working configuration\n",
    "\n",
    "#SBATCH --qos=debug\n",
    "#SBATCH --time=5\n",
    "#SBATCH --nodes=2\n",
    "#SBATCH --ntasks-per-node=128\n",
    "#SBATCH --constraint=cpu\n",
    "\n",
    "\n",
    "cluster_kwargs = {\n",
    "    \"cores\": 1,  \n",
    "    \"memory\": \"10GB\",  # Correct spacing\n",
    "    \"shebang\": \"#!/bin/bash\",\n",
    "    #\"account\": \"sanjeevc\",\n",
    "    \"walltime\": \"00:10:00\",\n",
    "    \"job_script_prologue\": [\"source ~/.bashrc\"],\n",
    "    # Only basic directives, add more as needed and test each step\n",
    "    \"job_extra_directives\": [\"-A m669\",\"-q regular\",\"--constraint=cpu\"],\n",
    "        \"asynchronous\": True\n",
    "}\n",
    "cluster = SLURMCluster(**cluster_kwargs)\n",
    "print(cluster.job_script())\n"
   ]
  },
  {
   "cell_type": "code",
   "execution_count": 4,
   "metadata": {
    "tags": []
   },
   "outputs": [],
   "source": [
    "#!dask-scheduler\n"
   ]
  },
  {
   "cell_type": "code",
   "execution_count": 5,
   "metadata": {},
   "outputs": [],
   "source": [
    "#!prefect config set PREFECT_API_URL=\"https://ard-modeling-service.slac.stanford.edu/api\" "
   ]
  },
  {
   "cell_type": "code",
   "execution_count": 6,
   "metadata": {},
   "outputs": [],
   "source": [
    "#!prefect config set PREFECT_API_URL=\"http://localhost:8000/api\"\n"
   ]
  },
  {
   "cell_type": "code",
   "execution_count": 7,
   "metadata": {},
   "outputs": [
    {
     "name": "stdout",
     "output_type": "stream",
     "text": [
      "CPU times: user 2 µs, sys: 0 ns, total: 2 µs\n",
      "Wall time: 5.48 µs\n"
     ]
    },
    {
     "data": {
      "text/html": [
       "<div>\n",
       "    <div style=\"width: 24px; height: 24px; background-color: #e1e1e1; border: 3px solid #9D9D9D; border-radius: 5px; position: absolute;\"> </div>\n",
       "    <div style=\"margin-left: 48px;\">\n",
       "        <h3 style=\"margin-bottom: 0px;\">Client</h3>\n",
       "        <p style=\"color: #9D9D9D; margin-bottom: 0px;\">Client-9cdbcada-6fda-11ef-9254-a5ba4eb77f07</p>\n",
       "        <table style=\"width: 100%; text-align: left;\">\n",
       "\n",
       "        <tr>\n",
       "        \n",
       "            <td style=\"text-align: left;\"><strong>Connection method:</strong> Cluster object</td>\n",
       "            <td style=\"text-align: left;\"><strong>Cluster type:</strong> dask_jobqueue.SLURMCluster</td>\n",
       "        \n",
       "        </tr>\n",
       "\n",
       "        \n",
       "\n",
       "        </table>\n",
       "\n",
       "        \n",
       "\n",
       "        \n",
       "            <p>No scheduler connected.</p>\n",
       "        \n",
       "\n",
       "    </div>\n",
       "</div>"
      ],
      "text/plain": [
       "<Client: No scheduler connected>"
      ]
     },
     "execution_count": 7,
     "metadata": {},
     "output_type": "execute_result"
    },
    {
     "name": "stderr",
     "output_type": "stream",
     "text": [
      "2024-09-10 18:10:20,128 - distributed.http.proxy - INFO - To route to workers diagnostics web server please install jupyter-server-proxy: python -m pip install jupyter-server-proxy\n",
      "/global/common/software/nersc/pe/conda-envs/24.1.0/python-3.11/nersc-python/lib/python3.11/site-packages/distributed/node.py:182: UserWarning: Port 8787 is already in use.\n",
      "Perhaps you already have a cluster running?\n",
      "Hosting the HTTP server on port 45387 instead\n",
      "  warnings.warn(\n",
      "2024-09-10 18:10:20,155 - distributed.scheduler - INFO - State start\n",
      "2024-09-10 18:10:20,164 - distributed.scheduler - INFO -   Scheduler at:  tcp://128.55.64.38:43845\n",
      "2024-09-10 18:10:20,164 - distributed.scheduler - INFO -   dashboard at:  http://128.55.64.38:45387/status\n",
      "2024-09-10 18:10:20,166 - distributed.scheduler - INFO - Registering Worker plugin shuffle\n",
      "2024-09-10 18:10:32,415 - distributed.scheduler - INFO - Receive client connection: Client-9cdbcada-6fda-11ef-9254-a5ba4eb77f07\n",
      "2024-09-10 18:10:32,417 - distributed.core - INFO - Starting established connection to tcp://128.55.64.38:53216\n"
     ]
    }
   ],
   "source": [
    "%time\n",
    "slurm_jobs = 10\n",
    "cluster.scale(jobs=slurm_jobs)\n",
    "client = Client(cluster)\n",
    "client"
   ]
  },
  {
   "cell_type": "code",
   "execution_count": null,
   "metadata": {},
   "outputs": [],
   "source": []
  },
  {
   "cell_type": "code",
   "execution_count": 9,
   "metadata": {},
   "outputs": [
    {
     "name": "stdout",
     "output_type": "stream",
     "text": [
      "http://128.55.64.38:45387/status\n"
     ]
    }
   ],
   "source": [
    "print(client.dashboard_link)"
   ]
  },
  {
   "cell_type": "code",
   "execution_count": 9,
   "metadata": {
    "tags": []
   },
   "outputs": [
    {
     "data": {
      "text/html": [
       "<pre style=\"white-space:pre;overflow-x:auto;line-height:normal;font-family:Menlo,'DejaVu Sans Mono',consolas,'Courier New',monospace\">04:23:43.892 | <span style=\"color: #008080; text-decoration-color: #008080\">INFO</span>    | prefect.engine - Created flow run<span style=\"color: #800080; text-decoration-color: #800080\"> 'tentacled-lyrebird'</span> for flow<span style=\"color: #800080; text-decoration-color: #800080; font-weight: bold\"> 'dask'</span>\n",
       "</pre>\n"
      ],
      "text/plain": [
       "04:23:43.892 | \u001b[36mINFO\u001b[0m    | prefect.engine - Created flow run\u001b[35m 'tentacled-lyrebird'\u001b[0m for flow\u001b[1;35m 'dask'\u001b[0m\n"
      ]
     },
     "metadata": {},
     "output_type": "display_data"
    },
    {
     "data": {
      "text/html": [
       "<pre style=\"white-space:pre;overflow-x:auto;line-height:normal;font-family:Menlo,'DejaVu Sans Mono',consolas,'Courier New',monospace\">04:23:43.896 | <span style=\"color: #008080; text-decoration-color: #008080\">INFO</span>    | Flow run<span style=\"color: #800080; text-decoration-color: #800080\"> 'tentacled-lyrebird'</span> - View at <span style=\"color: #0000ff; text-decoration-color: #0000ff\">https://ard-modeling-service.slac.stanford.edu/flow-runs/flow-run/95bb0199-25d9-4f04-b0cd-4a5e5be34cb3</span>\n",
       "</pre>\n"
      ],
      "text/plain": [
       "04:23:43.896 | \u001b[36mINFO\u001b[0m    | Flow run\u001b[35m 'tentacled-lyrebird'\u001b[0m - View at \u001b[94mhttps://ard-modeling-service.slac.stanford.edu/flow-runs/flow-run/95bb0199-25d9-4f04-b0cd-4a5e5be34cb3\u001b[0m\n"
      ]
     },
     "metadata": {},
     "output_type": "display_data"
    },
    {
     "data": {
      "text/html": [
       "<pre style=\"white-space:pre;overflow-x:auto;line-height:normal;font-family:Menlo,'DejaVu Sans Mono',consolas,'Courier New',monospace\">04:23:43.897 | <span style=\"color: #008080; text-decoration-color: #008080\">INFO</span>    | prefect.task_runner.dask - Creating a new Dask cluster with `distributed.deploy.local.LocalCluster`\n",
       "</pre>\n"
      ],
      "text/plain": [
       "04:23:43.897 | \u001b[36mINFO\u001b[0m    | prefect.task_runner.dask - Creating a new Dask cluster with `distributed.deploy.local.LocalCluster`\n"
      ]
     },
     "metadata": {},
     "output_type": "display_data"
    },
    {
     "data": {
      "text/html": [
       "<pre style=\"white-space:pre;overflow-x:auto;line-height:normal;font-family:Menlo,'DejaVu Sans Mono',consolas,'Courier New',monospace\">04:23:48.167 | <span style=\"color: #008080; text-decoration-color: #008080\">INFO</span>    | prefect.task_runner.dask - The Dask dashboard is available at <span style=\"color: #0000ff; text-decoration-color: #0000ff\">http://127.0.0.1:8787/status</span>\n",
       "</pre>\n"
      ],
      "text/plain": [
       "04:23:48.167 | \u001b[36mINFO\u001b[0m    | prefect.task_runner.dask - The Dask dashboard is available at \u001b[94mhttp://127.0.0.1:8787/status\u001b[0m\n"
      ]
     },
     "metadata": {},
     "output_type": "display_data"
    },
    {
     "data": {
      "text/html": [
       "<pre style=\"white-space:pre;overflow-x:auto;line-height:normal;font-family:Menlo,'DejaVu Sans Mono',consolas,'Courier New',monospace\">04:23:48.216 | <span style=\"color: #008080; text-decoration-color: #008080\">INFO</span>    | Flow run<span style=\"color: #800080; text-decoration-color: #800080\"> 'tentacled-lyrebird'</span> - Created task run 'say_hello-0' for task 'say_hello'\n",
       "</pre>\n"
      ],
      "text/plain": [
       "04:23:48.216 | \u001b[36mINFO\u001b[0m    | Flow run\u001b[35m 'tentacled-lyrebird'\u001b[0m - Created task run 'say_hello-0' for task 'say_hello'\n"
      ]
     },
     "metadata": {},
     "output_type": "display_data"
    },
    {
     "data": {
      "text/html": [
       "<pre style=\"white-space:pre;overflow-x:auto;line-height:normal;font-family:Menlo,'DejaVu Sans Mono',consolas,'Courier New',monospace\">04:23:48.372 | <span style=\"color: #008080; text-decoration-color: #008080\">INFO</span>    | Flow run<span style=\"color: #800080; text-decoration-color: #800080\"> 'tentacled-lyrebird'</span> - Submitted task run 'say_hello-0' for execution.\n",
       "</pre>\n"
      ],
      "text/plain": [
       "04:23:48.372 | \u001b[36mINFO\u001b[0m    | Flow run\u001b[35m 'tentacled-lyrebird'\u001b[0m - Submitted task run 'say_hello-0' for execution.\n"
      ]
     },
     "metadata": {},
     "output_type": "display_data"
    },
    {
     "data": {
      "text/html": [
       "<pre style=\"white-space:pre;overflow-x:auto;line-height:normal;font-family:Menlo,'DejaVu Sans Mono',consolas,'Courier New',monospace\">04:23:48.388 | <span style=\"color: #008080; text-decoration-color: #008080\">INFO</span>    | Flow run<span style=\"color: #800080; text-decoration-color: #800080\"> 'tentacled-lyrebird'</span> - Created task run 'say_goodbye-0' for task 'say_goodbye'\n",
       "</pre>\n"
      ],
      "text/plain": [
       "04:23:48.388 | \u001b[36mINFO\u001b[0m    | Flow run\u001b[35m 'tentacled-lyrebird'\u001b[0m - Created task run 'say_goodbye-0' for task 'say_goodbye'\n"
      ]
     },
     "metadata": {},
     "output_type": "display_data"
    },
    {
     "data": {
      "text/html": [
       "<pre style=\"white-space:pre;overflow-x:auto;line-height:normal;font-family:Menlo,'DejaVu Sans Mono',consolas,'Courier New',monospace\">04:23:48.392 | <span style=\"color: #008080; text-decoration-color: #008080\">INFO</span>    | Flow run<span style=\"color: #800080; text-decoration-color: #800080\"> 'tentacled-lyrebird'</span> - Submitted task run 'say_goodbye-0' for execution.\n",
       "</pre>\n"
      ],
      "text/plain": [
       "04:23:48.392 | \u001b[36mINFO\u001b[0m    | Flow run\u001b[35m 'tentacled-lyrebird'\u001b[0m - Submitted task run 'say_goodbye-0' for execution.\n"
      ]
     },
     "metadata": {},
     "output_type": "display_data"
    },
    {
     "data": {
      "text/html": [
       "<pre style=\"white-space:pre;overflow-x:auto;line-height:normal;font-family:Menlo,'DejaVu Sans Mono',consolas,'Courier New',monospace\">04:23:48.425 | <span style=\"color: #008080; text-decoration-color: #008080\">INFO</span>    | Flow run<span style=\"color: #800080; text-decoration-color: #800080\"> 'tentacled-lyrebird'</span> - Created task run 'say_hello-1' for task 'say_hello'\n",
       "</pre>\n"
      ],
      "text/plain": [
       "04:23:48.425 | \u001b[36mINFO\u001b[0m    | Flow run\u001b[35m 'tentacled-lyrebird'\u001b[0m - Created task run 'say_hello-1' for task 'say_hello'\n"
      ]
     },
     "metadata": {},
     "output_type": "display_data"
    },
    {
     "data": {
      "text/html": [
       "<pre style=\"white-space:pre;overflow-x:auto;line-height:normal;font-family:Menlo,'DejaVu Sans Mono',consolas,'Courier New',monospace\">04:23:48.430 | <span style=\"color: #008080; text-decoration-color: #008080\">INFO</span>    | Flow run<span style=\"color: #800080; text-decoration-color: #800080\"> 'tentacled-lyrebird'</span> - Submitted task run 'say_hello-1' for execution.\n",
       "</pre>\n"
      ],
      "text/plain": [
       "04:23:48.430 | \u001b[36mINFO\u001b[0m    | Flow run\u001b[35m 'tentacled-lyrebird'\u001b[0m - Submitted task run 'say_hello-1' for execution.\n"
      ]
     },
     "metadata": {},
     "output_type": "display_data"
    },
    {
     "data": {
      "text/html": [
       "<pre style=\"white-space:pre;overflow-x:auto;line-height:normal;font-family:Menlo,'DejaVu Sans Mono',consolas,'Courier New',monospace\">04:23:48.434 | <span style=\"color: #008080; text-decoration-color: #008080\">INFO</span>    | Flow run<span style=\"color: #800080; text-decoration-color: #800080\"> 'tentacled-lyrebird'</span> - Created task run 'say_goodbye-1' for task 'say_goodbye'\n",
       "</pre>\n"
      ],
      "text/plain": [
       "04:23:48.434 | \u001b[36mINFO\u001b[0m    | Flow run\u001b[35m 'tentacled-lyrebird'\u001b[0m - Created task run 'say_goodbye-1' for task 'say_goodbye'\n"
      ]
     },
     "metadata": {},
     "output_type": "display_data"
    },
    {
     "data": {
      "text/html": [
       "<pre style=\"white-space:pre;overflow-x:auto;line-height:normal;font-family:Menlo,'DejaVu Sans Mono',consolas,'Courier New',monospace\">04:23:48.439 | <span style=\"color: #008080; text-decoration-color: #008080\">INFO</span>    | Flow run<span style=\"color: #800080; text-decoration-color: #800080\"> 'tentacled-lyrebird'</span> - Submitted task run 'say_goodbye-1' for execution.\n",
       "</pre>\n"
      ],
      "text/plain": [
       "04:23:48.439 | \u001b[36mINFO\u001b[0m    | Flow run\u001b[35m 'tentacled-lyrebird'\u001b[0m - Submitted task run 'say_goodbye-1' for execution.\n"
      ]
     },
     "metadata": {},
     "output_type": "display_data"
    },
    {
     "data": {
      "text/html": [
       "<pre style=\"white-space:pre;overflow-x:auto;line-height:normal;font-family:Menlo,'DejaVu Sans Mono',consolas,'Courier New',monospace\">04:23:48.441 | <span style=\"color: #008080; text-decoration-color: #008080\">INFO</span>    | Flow run<span style=\"color: #800080; text-decoration-color: #800080\"> 'tentacled-lyrebird'</span> - Created task run 'say_goodbye-2' for task 'say_goodbye'\n",
       "</pre>\n"
      ],
      "text/plain": [
       "04:23:48.441 | \u001b[36mINFO\u001b[0m    | Flow run\u001b[35m 'tentacled-lyrebird'\u001b[0m - Created task run 'say_goodbye-2' for task 'say_goodbye'\n"
      ]
     },
     "metadata": {},
     "output_type": "display_data"
    },
    {
     "data": {
      "text/html": [
       "<pre style=\"white-space:pre;overflow-x:auto;line-height:normal;font-family:Menlo,'DejaVu Sans Mono',consolas,'Courier New',monospace\">04:23:48.445 | <span style=\"color: #008080; text-decoration-color: #008080\">INFO</span>    | Flow run<span style=\"color: #800080; text-decoration-color: #800080\"> 'tentacled-lyrebird'</span> - Submitted task run 'say_goodbye-2' for execution.\n",
       "</pre>\n"
      ],
      "text/plain": [
       "04:23:48.445 | \u001b[36mINFO\u001b[0m    | Flow run\u001b[35m 'tentacled-lyrebird'\u001b[0m - Submitted task run 'say_goodbye-2' for execution.\n"
      ]
     },
     "metadata": {},
     "output_type": "display_data"
    },
    {
     "data": {
      "text/html": [
       "<pre style=\"white-space:pre;overflow-x:auto;line-height:normal;font-family:Menlo,'DejaVu Sans Mono',consolas,'Courier New',monospace\">04:23:48.451 | <span style=\"color: #008080; text-decoration-color: #008080\">INFO</span>    | Flow run<span style=\"color: #800080; text-decoration-color: #800080\"> 'tentacled-lyrebird'</span> - Created task run 'say_goodbye-3' for task 'say_goodbye'\n",
       "</pre>\n"
      ],
      "text/plain": [
       "04:23:48.451 | \u001b[36mINFO\u001b[0m    | Flow run\u001b[35m 'tentacled-lyrebird'\u001b[0m - Created task run 'say_goodbye-3' for task 'say_goodbye'\n"
      ]
     },
     "metadata": {},
     "output_type": "display_data"
    },
    {
     "data": {
      "text/html": [
       "<pre style=\"white-space:pre;overflow-x:auto;line-height:normal;font-family:Menlo,'DejaVu Sans Mono',consolas,'Courier New',monospace\">04:23:48.456 | <span style=\"color: #008080; text-decoration-color: #008080\">INFO</span>    | Flow run<span style=\"color: #800080; text-decoration-color: #800080\"> 'tentacled-lyrebird'</span> - Submitted task run 'say_goodbye-3' for execution.\n",
       "</pre>\n"
      ],
      "text/plain": [
       "04:23:48.456 | \u001b[36mINFO\u001b[0m    | Flow run\u001b[35m 'tentacled-lyrebird'\u001b[0m - Submitted task run 'say_goodbye-3' for execution.\n"
      ]
     },
     "metadata": {},
     "output_type": "display_data"
    },
    {
     "data": {
      "text/html": [
       "<pre style=\"white-space:pre;overflow-x:auto;line-height:normal;font-family:Menlo,'DejaVu Sans Mono',consolas,'Courier New',monospace\">04:23:48.466 | <span style=\"color: #008080; text-decoration-color: #008080\">INFO</span>    | Flow run<span style=\"color: #800080; text-decoration-color: #800080\"> 'tentacled-lyrebird'</span> - Created task run 'say_hello-2' for task 'say_hello'\n",
       "</pre>\n"
      ],
      "text/plain": [
       "04:23:48.466 | \u001b[36mINFO\u001b[0m    | Flow run\u001b[35m 'tentacled-lyrebird'\u001b[0m - Created task run 'say_hello-2' for task 'say_hello'\n"
      ]
     },
     "metadata": {},
     "output_type": "display_data"
    },
    {
     "data": {
      "text/html": [
       "<pre style=\"white-space:pre;overflow-x:auto;line-height:normal;font-family:Menlo,'DejaVu Sans Mono',consolas,'Courier New',monospace\">04:23:48.471 | <span style=\"color: #008080; text-decoration-color: #008080\">INFO</span>    | Flow run<span style=\"color: #800080; text-decoration-color: #800080\"> 'tentacled-lyrebird'</span> - Submitted task run 'say_hello-2' for execution.\n",
       "</pre>\n"
      ],
      "text/plain": [
       "04:23:48.471 | \u001b[36mINFO\u001b[0m    | Flow run\u001b[35m 'tentacled-lyrebird'\u001b[0m - Submitted task run 'say_hello-2' for execution.\n"
      ]
     },
     "metadata": {},
     "output_type": "display_data"
    },
    {
     "data": {
      "text/html": [
       "<pre style=\"white-space:pre;overflow-x:auto;line-height:normal;font-family:Menlo,'DejaVu Sans Mono',consolas,'Courier New',monospace\">04:23:48.476 | <span style=\"color: #008080; text-decoration-color: #008080\">INFO</span>    | Flow run<span style=\"color: #800080; text-decoration-color: #800080\"> 'tentacled-lyrebird'</span> - Created task run 'say_hello-3' for task 'say_hello'\n",
       "</pre>\n"
      ],
      "text/plain": [
       "04:23:48.476 | \u001b[36mINFO\u001b[0m    | Flow run\u001b[35m 'tentacled-lyrebird'\u001b[0m - Created task run 'say_hello-3' for task 'say_hello'\n"
      ]
     },
     "metadata": {},
     "output_type": "display_data"
    },
    {
     "data": {
      "text/html": [
       "<pre style=\"white-space:pre;overflow-x:auto;line-height:normal;font-family:Menlo,'DejaVu Sans Mono',consolas,'Courier New',monospace\">04:23:48.480 | <span style=\"color: #008080; text-decoration-color: #008080\">INFO</span>    | Flow run<span style=\"color: #800080; text-decoration-color: #800080\"> 'tentacled-lyrebird'</span> - Submitted task run 'say_hello-3' for execution.\n",
       "</pre>\n"
      ],
      "text/plain": [
       "04:23:48.480 | \u001b[36mINFO\u001b[0m    | Flow run\u001b[35m 'tentacled-lyrebird'\u001b[0m - Submitted task run 'say_hello-3' for execution.\n"
      ]
     },
     "metadata": {},
     "output_type": "display_data"
    },
    {
     "name": "stderr",
     "output_type": "stream",
     "text": [
      "04:23:50.774 | \u001b[36mINFO\u001b[0m    | Task run 'say_goodbye-1' - goodbye trillian\n",
      "04:23:50.816 | \u001b[36mINFO\u001b[0m    | Task run 'say_goodbye-1' - Finished in state \u001b[32mCompleted\u001b[0m()\n",
      "04:23:50.845 | \u001b[36mINFO\u001b[0m    | Task run 'say_hello-0' - hello arthur\n",
      "04:23:50.899 | \u001b[36mINFO\u001b[0m    | Task run 'say_hello-2' - hello ford\n",
      "04:23:50.905 | \u001b[36mINFO\u001b[0m    | Task run 'say_hello-0' - Finished in state \u001b[32mCompleted\u001b[0m()\n",
      "04:23:50.929 | \u001b[36mINFO\u001b[0m    | Task run 'say_goodbye-2' - goodbye ford\n",
      "04:23:50.959 | \u001b[36mINFO\u001b[0m    | Task run 'say_hello-2' - Finished in state \u001b[32mCompleted\u001b[0m()\n",
      "04:23:50.973 | \u001b[36mINFO\u001b[0m    | Task run 'say_goodbye-0' - goodbye arthur\n",
      "04:23:50.984 | \u001b[36mINFO\u001b[0m    | Task run 'say_goodbye-2' - Finished in state \u001b[32mCompleted\u001b[0m()\n",
      "04:23:50.997 | \u001b[36mINFO\u001b[0m    | Task run 'say_goodbye-3' - goodbye marvin\n",
      "04:23:51.039 | \u001b[36mINFO\u001b[0m    | Task run 'say_goodbye-0' - Finished in state \u001b[32mCompleted\u001b[0m()\n",
      "04:23:51.045 | \u001b[36mINFO\u001b[0m    | Task run 'say_goodbye-3' - Finished in state \u001b[32mCompleted\u001b[0m()\n",
      "04:23:51.042 | \u001b[36mINFO\u001b[0m    | Task run 'say_hello-1' - hello trillian\n",
      "04:23:51.049 | \u001b[36mINFO\u001b[0m    | Task run 'say_hello-3' - hello marvin\n",
      "04:23:51.168 | \u001b[36mINFO\u001b[0m    | Task run 'say_hello-1' - Finished in state \u001b[32mCompleted\u001b[0m()\n",
      "04:23:51.175 | \u001b[36mINFO\u001b[0m    | Task run 'say_hello-3' - Finished in state \u001b[32mCompleted\u001b[0m()\n"
     ]
    },
    {
     "data": {
      "text/html": [
       "<pre style=\"white-space:pre;overflow-x:auto;line-height:normal;font-family:Menlo,'DejaVu Sans Mono',consolas,'Courier New',monospace\">04:23:52.232 | <span style=\"color: #008080; text-decoration-color: #008080\">INFO</span>    | Flow run<span style=\"color: #800080; text-decoration-color: #800080\"> 'tentacled-lyrebird'</span> - Finished in state <span style=\"color: #008000; text-decoration-color: #008000\">Completed</span>('All states completed.')\n",
       "</pre>\n"
      ],
      "text/plain": [
       "04:23:52.232 | \u001b[36mINFO\u001b[0m    | Flow run\u001b[35m 'tentacled-lyrebird'\u001b[0m - Finished in state \u001b[32mCompleted\u001b[0m('All states completed.')\n"
      ]
     },
     "metadata": {},
     "output_type": "display_data"
    }
   ],
   "source": [
    "from prefect import flow, get_run_logger, task\n",
    "from prefect_dask.task_runners import DaskTaskRunner\n",
    "\n",
    "\n",
    "@task\n",
    "def say_hello(name: str) -> None:\n",
    "    # logs not currently working see https://github.com/PrefectHQ/prefect/issues/5850\n",
    "    logger = get_run_logger()\n",
    "    logger.info(f\"hello {name}\")\n",
    "\n",
    "\n",
    "@task\n",
    "def say_goodbye(name: str) -> None:\n",
    "    logger = get_run_logger()\n",
    "    logger.info(f\"goodbye {name}\")\n",
    "\n",
    "\n",
    "# TODO: can the task runner be parameterised so we don't duplicate the flow with dask_kubes_flow?\n",
    "# see https://github.com/PrefectHQ/prefect/issues/5560\n",
    "\n",
    "\n",
    "# creates a LocalCluster https://docs.dask.org/en/stable/deploying-python.html#localcluster\n",
    "@flow(task_runner=DaskTaskRunner(cluster=cluster))\n",
    "def dask(names: list[str]) -> None:\n",
    "    for name in names:\n",
    "        # tasks must be submitted to run on dask\n",
    "        # if called without .submit() they are still tracked but\n",
    "        # run immediately and locally rather than async on dask\n",
    "        say_hello.submit(name)\n",
    "        say_goodbye.submit(name)\n",
    "\n",
    "\n",
    "if __name__ == \"__main__\":\n",
    "    dask([\"arthur\", \"trillian\", \"ford\", \"marvin\"])"
   ]
  },
  {
   "cell_type": "code",
   "execution_count": null,
   "metadata": {},
   "outputs": [],
   "source": []
  },
  {
   "cell_type": "code",
   "execution_count": null,
   "metadata": {},
   "outputs": [],
   "source": []
  },
  {
   "cell_type": "code",
   "execution_count": null,
   "metadata": {},
   "outputs": [],
   "source": []
  },
  {
   "cell_type": "code",
   "execution_count": null,
   "metadata": {},
   "outputs": [],
   "source": []
  },
  {
   "cell_type": "code",
   "execution_count": null,
   "metadata": {},
   "outputs": [],
   "source": []
  },
  {
   "cell_type": "code",
   "execution_count": null,
   "metadata": {},
   "outputs": [],
   "source": [
    "client.shutdown()\n"
   ]
  },
  {
   "cell_type": "markdown",
   "metadata": {},
   "source": [
    "# Temporary Dask Cluster\n",
    "Some users may prefer to spin up a Dask cluster (i.e. Slurm job) for each indiviual @flow. This is also possible in Prefect. (Note that the example below will complain about an open port if you have already instantiated a Dask cluster above.)\n",
    "\n"
   ]
  },
  {
   "cell_type": "markdown",
   "metadata": {},
   "source": [
    "from prefect import flow, task\n",
    "from prefect_dask import DaskTaskRunner\n",
    "\n",
    "@flow(task_runner=DaskTaskRunner(cluster_class=SLURMCluster, cluster_kwargs=cluster_kwargs))\n",
    "def workflow(a: float, b: float) -> float:\n",
    "    output1 = add.submit(a, b)\n",
    "    output2 = mult.submit(output1, b)\n",
    "    return output2\n",
    "\n",
    "@task\n",
    "def add(a: float, b: float) -> float:\n",
    "    return a + b\n",
    "\n",
    "@task\n",
    "def mult(a: float, b: float) -> float:\n",
    "    return a * b\n",
    "\n",
    "workflow(1, 2).result()"
   ]
  },
  {
   "cell_type": "code",
   "execution_count": null,
   "metadata": {},
   "outputs": [],
   "source": []
  }
 ],
 "metadata": {
  "kernelspec": {
   "display_name": "NERSC Python",
   "language": "python",
   "name": "python3"
  },
  "language_info": {
   "codemirror_mode": {
    "name": "ipython",
    "version": 3
   },
   "file_extension": ".py",
   "mimetype": "text/x-python",
   "name": "python",
   "nbconvert_exporter": "python",
   "pygments_lexer": "ipython3",
   "version": "3.11.7"
  }
 },
 "nbformat": 4,
 "nbformat_minor": 4
}
