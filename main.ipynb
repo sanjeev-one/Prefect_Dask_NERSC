{
 "cells": [
  {
   "cell_type": "code",
   "execution_count": null,
   "metadata": {},
   "outputs": [],
   "source": [
    "#pip install prefect[dask] dask-jobqueue\n",
    "# prefect config set PREFECT_API_URL=\"https://ard-modeling-service.slac.stanford.edu/api\" \n",
    "\n",
    "from dask.distributed import Client\n",
    "from dask_jobqueue import SLURMCluster\n",
    "\n",
    "cluster_kwargs = {\n",
    "    \"cores\": 12,  \n",
    "    \"memory\": \"10 GB\",\n",
    "    \"shebang\": \"#!/bin/bash\",\n",
    "    \"account\": \"facet\",\n",
    "    \"walltime\": \"00:10:00\",\n",
    "    \"job_mem\": \"0\",\n",
    "    \"job_script_prologue\": [\"source ~/.bashrc\"],\n",
    "    \"job_directives_skip\": [\"-n\", \"--cpus-per-task\"],  \n",
    "    \"job_extra_directives\": [\"-q debug\", \"-C cpu\"],  \n",
    "}\n",
    "\n",
    "cluster = SLURMCluster(**cluster_kwargs)\n",
    "print(cluster.job_script())\n"
   ]
  },
  {
   "cell_type": "code",
   "execution_count": null,
   "metadata": {},
   "outputs": [],
   "source": [
    "slurm_jobs = 1\n",
    "cluster.scale(jobs=slurm_jobs)\n",
    "client = Client(cluster)"
   ]
  },
  {
   "cell_type": "code",
   "execution_count": null,
   "metadata": {},
   "outputs": [],
   "source": [
    "from prefect import flow, task\n",
    "from prefect_dask import DaskTaskRunner\n",
    "\n",
    "@flow(task_runner=DaskTaskRunner(address=client.scheduler.address))\n",
    "def workflow(a: float, b: float) -> float:\n",
    "    output1 = add.submit(a, b)\n",
    "    output2 = mult.submit(output1, b)\n",
    "    return output2\n",
    "\n",
    "@task\n",
    "def add(a: float, b: float) -> float:\n",
    "    return a + b\n",
    "\n",
    "@task\n",
    "def mult(a: float, b: float) -> float:\n",
    "    return a * b"
   ]
  },
  {
   "cell_type": "code",
   "execution_count": null,
   "metadata": {},
   "outputs": [],
   "source": [
    "output = workflow(1, 2)\n",
    "print(output.result())"
   ]
  },
  {
   "cell_type": "markdown",
   "metadata": {},
   "source": [
    "# Temporary Dask Cluster\n",
    "Some users may prefer to spin up a Dask cluster (i.e. Slurm job) for each indiviual @flow. This is also possible in Prefect. (Note that the example below will complain about an open port if you have already instantiated a Dask cluster above.)\n",
    "\n"
   ]
  },
  {
   "cell_type": "code",
   "execution_count": null,
   "metadata": {},
   "outputs": [],
   "source": [
    "from prefect import flow, task\n",
    "from prefect_dask import DaskTaskRunner\n",
    "\n",
    "@flow(task_runner=DaskTaskRunner(cluster_class=SLURMCluster, cluster_kwargs=cluster_kwargs))\n",
    "def workflow(a: float, b: float) -> float:\n",
    "    output1 = add.submit(a, b)\n",
    "    output2 = mult.submit(output1, b)\n",
    "    return output2\n",
    "\n",
    "@task\n",
    "def add(a: float, b: float) -> float:\n",
    "    return a + b\n",
    "\n",
    "@task\n",
    "def mult(a: float, b: float) -> float:\n",
    "    return a * b\n",
    "\n",
    "workflow(1, 2).result()"
   ]
  }
 ],
 "metadata": {
  "language_info": {
   "name": "python"
  }
 },
 "nbformat": 4,
 "nbformat_minor": 2
}
